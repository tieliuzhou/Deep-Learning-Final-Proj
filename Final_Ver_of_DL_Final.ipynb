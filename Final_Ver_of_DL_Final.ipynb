{
  "nbformat": 4,
  "nbformat_minor": 0,
  "metadata": {
    "colab": {
      "name": "Final Ver. of DL-Final.ipynb",
      "provenance": [],
      "collapsed_sections": [],
      "toc_visible": true,
      "machine_shape": "hm",
      "include_colab_link": true
    },
    "kernelspec": {
      "name": "python3",
      "display_name": "Python 3"
    },
    "language_info": {
      "name": "python"
    },
    "widgets": {
      "application/vnd.jupyter.widget-state+json": {
        "ac28d5bd4015489499a3106085f34d90": {
          "model_module": "@jupyter-widgets/controls",
          "model_name": "HBoxModel",
          "state": {
            "_view_name": "HBoxView",
            "_dom_classes": [],
            "_model_name": "HBoxModel",
            "_view_module": "@jupyter-widgets/controls",
            "_model_module_version": "1.5.0",
            "_view_count": null,
            "_view_module_version": "1.5.0",
            "box_style": "",
            "layout": "IPY_MODEL_cf77b20113d44a28a05280c17543cee2",
            "_model_module": "@jupyter-widgets/controls",
            "children": [
              "IPY_MODEL_53e92737afd3437b861625c2efaf592d",
              "IPY_MODEL_bd947fceb35941e4b88ea5bf7dabedf7"
            ]
          }
        },
        "cf77b20113d44a28a05280c17543cee2": {
          "model_module": "@jupyter-widgets/base",
          "model_name": "LayoutModel",
          "state": {
            "_view_name": "LayoutView",
            "grid_template_rows": null,
            "right": null,
            "justify_content": null,
            "_view_module": "@jupyter-widgets/base",
            "overflow": null,
            "_model_module_version": "1.2.0",
            "_view_count": null,
            "flex_flow": null,
            "width": null,
            "min_width": null,
            "border": null,
            "align_items": null,
            "bottom": null,
            "_model_module": "@jupyter-widgets/base",
            "top": null,
            "grid_column": null,
            "overflow_y": null,
            "overflow_x": null,
            "grid_auto_flow": null,
            "grid_area": null,
            "grid_template_columns": null,
            "flex": null,
            "_model_name": "LayoutModel",
            "justify_items": null,
            "grid_row": null,
            "max_height": null,
            "align_content": null,
            "visibility": null,
            "align_self": null,
            "height": null,
            "min_height": null,
            "padding": null,
            "grid_auto_rows": null,
            "grid_gap": null,
            "max_width": null,
            "order": null,
            "_view_module_version": "1.2.0",
            "grid_template_areas": null,
            "object_position": null,
            "object_fit": null,
            "grid_auto_columns": null,
            "margin": null,
            "display": null,
            "left": null
          }
        },
        "53e92737afd3437b861625c2efaf592d": {
          "model_module": "@jupyter-widgets/controls",
          "model_name": "FloatProgressModel",
          "state": {
            "_view_name": "ProgressView",
            "style": "IPY_MODEL_ca3c4f570e254a319eb6ba401dd5fd27",
            "_dom_classes": [],
            "description": "100%",
            "_model_name": "FloatProgressModel",
            "bar_style": "success",
            "max": 102502400,
            "_view_module": "@jupyter-widgets/controls",
            "_model_module_version": "1.5.0",
            "value": 102502400,
            "_view_count": null,
            "_view_module_version": "1.5.0",
            "orientation": "horizontal",
            "min": 0,
            "description_tooltip": null,
            "_model_module": "@jupyter-widgets/controls",
            "layout": "IPY_MODEL_20b03a9d94e948e4830041e13b6ef16f"
          }
        },
        "bd947fceb35941e4b88ea5bf7dabedf7": {
          "model_module": "@jupyter-widgets/controls",
          "model_name": "HTMLModel",
          "state": {
            "_view_name": "HTMLView",
            "style": "IPY_MODEL_6027b75b43dc4c07891ff82c01d079c8",
            "_dom_classes": [],
            "description": "",
            "_model_name": "HTMLModel",
            "placeholder": "​",
            "_view_module": "@jupyter-widgets/controls",
            "_model_module_version": "1.5.0",
            "value": " 97.8M/97.8M [00:01&lt;00:00, 75.5MB/s]",
            "_view_count": null,
            "_view_module_version": "1.5.0",
            "description_tooltip": null,
            "_model_module": "@jupyter-widgets/controls",
            "layout": "IPY_MODEL_18d4126e43234f4398c617517757f330"
          }
        },
        "ca3c4f570e254a319eb6ba401dd5fd27": {
          "model_module": "@jupyter-widgets/controls",
          "model_name": "ProgressStyleModel",
          "state": {
            "_view_name": "StyleView",
            "_model_name": "ProgressStyleModel",
            "description_width": "initial",
            "_view_module": "@jupyter-widgets/base",
            "_model_module_version": "1.5.0",
            "_view_count": null,
            "_view_module_version": "1.2.0",
            "bar_color": null,
            "_model_module": "@jupyter-widgets/controls"
          }
        },
        "20b03a9d94e948e4830041e13b6ef16f": {
          "model_module": "@jupyter-widgets/base",
          "model_name": "LayoutModel",
          "state": {
            "_view_name": "LayoutView",
            "grid_template_rows": null,
            "right": null,
            "justify_content": null,
            "_view_module": "@jupyter-widgets/base",
            "overflow": null,
            "_model_module_version": "1.2.0",
            "_view_count": null,
            "flex_flow": null,
            "width": null,
            "min_width": null,
            "border": null,
            "align_items": null,
            "bottom": null,
            "_model_module": "@jupyter-widgets/base",
            "top": null,
            "grid_column": null,
            "overflow_y": null,
            "overflow_x": null,
            "grid_auto_flow": null,
            "grid_area": null,
            "grid_template_columns": null,
            "flex": null,
            "_model_name": "LayoutModel",
            "justify_items": null,
            "grid_row": null,
            "max_height": null,
            "align_content": null,
            "visibility": null,
            "align_self": null,
            "height": null,
            "min_height": null,
            "padding": null,
            "grid_auto_rows": null,
            "grid_gap": null,
            "max_width": null,
            "order": null,
            "_view_module_version": "1.2.0",
            "grid_template_areas": null,
            "object_position": null,
            "object_fit": null,
            "grid_auto_columns": null,
            "margin": null,
            "display": null,
            "left": null
          }
        },
        "6027b75b43dc4c07891ff82c01d079c8": {
          "model_module": "@jupyter-widgets/controls",
          "model_name": "DescriptionStyleModel",
          "state": {
            "_view_name": "StyleView",
            "_model_name": "DescriptionStyleModel",
            "description_width": "",
            "_view_module": "@jupyter-widgets/base",
            "_model_module_version": "1.5.0",
            "_view_count": null,
            "_view_module_version": "1.2.0",
            "_model_module": "@jupyter-widgets/controls"
          }
        },
        "18d4126e43234f4398c617517757f330": {
          "model_module": "@jupyter-widgets/base",
          "model_name": "LayoutModel",
          "state": {
            "_view_name": "LayoutView",
            "grid_template_rows": null,
            "right": null,
            "justify_content": null,
            "_view_module": "@jupyter-widgets/base",
            "overflow": null,
            "_model_module_version": "1.2.0",
            "_view_count": null,
            "flex_flow": null,
            "width": null,
            "min_width": null,
            "border": null,
            "align_items": null,
            "bottom": null,
            "_model_module": "@jupyter-widgets/base",
            "top": null,
            "grid_column": null,
            "overflow_y": null,
            "overflow_x": null,
            "grid_auto_flow": null,
            "grid_area": null,
            "grid_template_columns": null,
            "flex": null,
            "_model_name": "LayoutModel",
            "justify_items": null,
            "grid_row": null,
            "max_height": null,
            "align_content": null,
            "visibility": null,
            "align_self": null,
            "height": null,
            "min_height": null,
            "padding": null,
            "grid_auto_rows": null,
            "grid_gap": null,
            "max_width": null,
            "order": null,
            "_view_module_version": "1.2.0",
            "grid_template_areas": null,
            "object_position": null,
            "object_fit": null,
            "grid_auto_columns": null,
            "margin": null,
            "display": null,
            "left": null
          }
        },
        "8adfaab84b8d44129e1c69f43dc6d200": {
          "model_module": "@jupyter-widgets/controls",
          "model_name": "HBoxModel",
          "state": {
            "_view_name": "HBoxView",
            "_dom_classes": [],
            "_model_name": "HBoxModel",
            "_view_module": "@jupyter-widgets/controls",
            "_model_module_version": "1.5.0",
            "_view_count": null,
            "_view_module_version": "1.5.0",
            "box_style": "",
            "layout": "IPY_MODEL_90bae86b4a264e7aaf15794da92f10d5",
            "_model_module": "@jupyter-widgets/controls",
            "children": [
              "IPY_MODEL_eb8afe68f66c4128b779d91e0de08e70",
              "IPY_MODEL_19aab0a554304566ac6d83d49d80d476"
            ]
          }
        },
        "90bae86b4a264e7aaf15794da92f10d5": {
          "model_module": "@jupyter-widgets/base",
          "model_name": "LayoutModel",
          "state": {
            "_view_name": "LayoutView",
            "grid_template_rows": null,
            "right": null,
            "justify_content": null,
            "_view_module": "@jupyter-widgets/base",
            "overflow": null,
            "_model_module_version": "1.2.0",
            "_view_count": null,
            "flex_flow": null,
            "width": null,
            "min_width": null,
            "border": null,
            "align_items": null,
            "bottom": null,
            "_model_module": "@jupyter-widgets/base",
            "top": null,
            "grid_column": null,
            "overflow_y": null,
            "overflow_x": null,
            "grid_auto_flow": null,
            "grid_area": null,
            "grid_template_columns": null,
            "flex": null,
            "_model_name": "LayoutModel",
            "justify_items": null,
            "grid_row": null,
            "max_height": null,
            "align_content": null,
            "visibility": null,
            "align_self": null,
            "height": null,
            "min_height": null,
            "padding": null,
            "grid_auto_rows": null,
            "grid_gap": null,
            "max_width": null,
            "order": null,
            "_view_module_version": "1.2.0",
            "grid_template_areas": null,
            "object_position": null,
            "object_fit": null,
            "grid_auto_columns": null,
            "margin": null,
            "display": null,
            "left": null
          }
        },
        "eb8afe68f66c4128b779d91e0de08e70": {
          "model_module": "@jupyter-widgets/controls",
          "model_name": "FloatProgressModel",
          "state": {
            "_view_name": "ProgressView",
            "style": "IPY_MODEL_18291c7e0bfc4be8a39b5b9d3978fd60",
            "_dom_classes": [],
            "description": "100%",
            "_model_name": "FloatProgressModel",
            "bar_style": "success",
            "max": 102502400,
            "_view_module": "@jupyter-widgets/controls",
            "_model_module_version": "1.5.0",
            "value": 102502400,
            "_view_count": null,
            "_view_module_version": "1.5.0",
            "orientation": "horizontal",
            "min": 0,
            "description_tooltip": null,
            "_model_module": "@jupyter-widgets/controls",
            "layout": "IPY_MODEL_8392f445247c459abc7ae8f85e878fb2"
          }
        },
        "19aab0a554304566ac6d83d49d80d476": {
          "model_module": "@jupyter-widgets/controls",
          "model_name": "HTMLModel",
          "state": {
            "_view_name": "HTMLView",
            "style": "IPY_MODEL_7094402e5b9240a2a487292a5e26b33c",
            "_dom_classes": [],
            "description": "",
            "_model_name": "HTMLModel",
            "placeholder": "​",
            "_view_module": "@jupyter-widgets/controls",
            "_model_module_version": "1.5.0",
            "value": " 97.8M/97.8M [01:20&lt;00:00, 1.28MB/s]",
            "_view_count": null,
            "_view_module_version": "1.5.0",
            "description_tooltip": null,
            "_model_module": "@jupyter-widgets/controls",
            "layout": "IPY_MODEL_f107feed53364ac5beb1fc8d3753fb9b"
          }
        },
        "18291c7e0bfc4be8a39b5b9d3978fd60": {
          "model_module": "@jupyter-widgets/controls",
          "model_name": "ProgressStyleModel",
          "state": {
            "_view_name": "StyleView",
            "_model_name": "ProgressStyleModel",
            "description_width": "initial",
            "_view_module": "@jupyter-widgets/base",
            "_model_module_version": "1.5.0",
            "_view_count": null,
            "_view_module_version": "1.2.0",
            "bar_color": null,
            "_model_module": "@jupyter-widgets/controls"
          }
        },
        "8392f445247c459abc7ae8f85e878fb2": {
          "model_module": "@jupyter-widgets/base",
          "model_name": "LayoutModel",
          "state": {
            "_view_name": "LayoutView",
            "grid_template_rows": null,
            "right": null,
            "justify_content": null,
            "_view_module": "@jupyter-widgets/base",
            "overflow": null,
            "_model_module_version": "1.2.0",
            "_view_count": null,
            "flex_flow": null,
            "width": null,
            "min_width": null,
            "border": null,
            "align_items": null,
            "bottom": null,
            "_model_module": "@jupyter-widgets/base",
            "top": null,
            "grid_column": null,
            "overflow_y": null,
            "overflow_x": null,
            "grid_auto_flow": null,
            "grid_area": null,
            "grid_template_columns": null,
            "flex": null,
            "_model_name": "LayoutModel",
            "justify_items": null,
            "grid_row": null,
            "max_height": null,
            "align_content": null,
            "visibility": null,
            "align_self": null,
            "height": null,
            "min_height": null,
            "padding": null,
            "grid_auto_rows": null,
            "grid_gap": null,
            "max_width": null,
            "order": null,
            "_view_module_version": "1.2.0",
            "grid_template_areas": null,
            "object_position": null,
            "object_fit": null,
            "grid_auto_columns": null,
            "margin": null,
            "display": null,
            "left": null
          }
        },
        "7094402e5b9240a2a487292a5e26b33c": {
          "model_module": "@jupyter-widgets/controls",
          "model_name": "DescriptionStyleModel",
          "state": {
            "_view_name": "StyleView",
            "_model_name": "DescriptionStyleModel",
            "description_width": "",
            "_view_module": "@jupyter-widgets/base",
            "_model_module_version": "1.5.0",
            "_view_count": null,
            "_view_module_version": "1.2.0",
            "_model_module": "@jupyter-widgets/controls"
          }
        },
        "f107feed53364ac5beb1fc8d3753fb9b": {
          "model_module": "@jupyter-widgets/base",
          "model_name": "LayoutModel",
          "state": {
            "_view_name": "LayoutView",
            "grid_template_rows": null,
            "right": null,
            "justify_content": null,
            "_view_module": "@jupyter-widgets/base",
            "overflow": null,
            "_model_module_version": "1.2.0",
            "_view_count": null,
            "flex_flow": null,
            "width": null,
            "min_width": null,
            "border": null,
            "align_items": null,
            "bottom": null,
            "_model_module": "@jupyter-widgets/base",
            "top": null,
            "grid_column": null,
            "overflow_y": null,
            "overflow_x": null,
            "grid_auto_flow": null,
            "grid_area": null,
            "grid_template_columns": null,
            "flex": null,
            "_model_name": "LayoutModel",
            "justify_items": null,
            "grid_row": null,
            "max_height": null,
            "align_content": null,
            "visibility": null,
            "align_self": null,
            "height": null,
            "min_height": null,
            "padding": null,
            "grid_auto_rows": null,
            "grid_gap": null,
            "max_width": null,
            "order": null,
            "_view_module_version": "1.2.0",
            "grid_template_areas": null,
            "object_position": null,
            "object_fit": null,
            "grid_auto_columns": null,
            "margin": null,
            "display": null,
            "left": null
          }
        }
      }
    },
    "accelerator": "GPU"
  },
  "cells": [
    {
      "cell_type": "markdown",
      "metadata": {
        "id": "view-in-github",
        "colab_type": "text"
      },
      "source": [
        "<a href=\"https://colab.research.google.com/github/tieliuzhou/Deep-Learning-Final-Proj/blob/main/Final_Ver_of_DL_Final.ipynb\" target=\"_parent\"><img src=\"https://colab.research.google.com/assets/colab-badge.svg\" alt=\"Open In Colab\"/></a>"
      ]
    },
    {
      "cell_type": "markdown",
      "metadata": {
        "id": "Ok3Wxy1VzUGo"
      },
      "source": [
        "# Pedestrian Re-identification Project"
      ]
    },
    {
      "cell_type": "code",
      "metadata": {
        "colab": {
          "base_uri": "https://localhost:8080/"
        },
        "id": "0U3jwDEO7R_T",
        "outputId": "382deea8-a625-4384-e667-1a5cb05a5ab5"
      },
      "source": [
        "!sudo lsb_release -a"
      ],
      "execution_count": null,
      "outputs": [
        {
          "output_type": "stream",
          "text": [
            "No LSB modules are available.\n",
            "Distributor ID:\tUbuntu\n",
            "Description:\tUbuntu 18.04.5 LTS\n",
            "Release:\t18.04\n",
            "Codename:\tbionic\n"
          ],
          "name": "stdout"
        }
      ]
    },
    {
      "cell_type": "markdown",
      "metadata": {
        "id": "XrN6fCkxSZyt"
      },
      "source": [
        "# Preparation"
      ]
    },
    {
      "cell_type": "markdown",
      "metadata": {
        "id": "Ia7vYs4IYOPn"
      },
      "source": [
        "## Environment Setup"
      ]
    },
    {
      "cell_type": "code",
      "metadata": {
        "id": "bqUBUUDLMR5C",
        "colab": {
          "base_uri": "https://localhost:8080/"
        },
        "outputId": "12b8ae01-98f0-4579-ac06-8e52572dae44"
      },
      "source": [
        "!pip install pretrainedmodels\n",
        "import time\n",
        "import os\n",
        "import random\n",
        "import math\n",
        "from shutil import copyfile\n",
        "from typing import Tuple\n",
        "import matplotlib.pyplot as plt\n",
        "from PIL import Image\n",
        "\n",
        "import torch \n",
        "from torch import nn, Tensor\n",
        "from torch.nn import init\n",
        "import torch.optim as optim\n",
        "from torch.optim import lr_scheduler\n",
        "import torchvision\n",
        "from torchvision import models, datasets, transforms\n",
        "from torch.utils.data import Dataset, DataLoader\n",
        "from torch.autograd import Variable\n",
        "import pretrainedmodels\n",
        "from sklearn.model_selection import train_test_split\n",
        "import numpy as np\n",
        "import pandas as pd\n",
        "from tqdm.notebook import trange, tqdm\n",
        "\n",
        "import torch.backends.cudnn as cudnn\n",
        "\n",
        "from importlib import import_module\n",
        "from __future__ import absolute_import"
      ],
      "execution_count": null,
      "outputs": [
        {
          "output_type": "stream",
          "text": [
            "Collecting pretrainedmodels\n",
            "\u001b[?25l  Downloading https://files.pythonhosted.org/packages/84/0e/be6a0e58447ac16c938799d49bfb5fb7a80ac35e137547fc6cee2c08c4cf/pretrainedmodels-0.7.4.tar.gz (58kB)\n",
            "\r\u001b[K     |█████▋                          | 10kB 26.0MB/s eta 0:00:01\r\u001b[K     |███████████▏                    | 20kB 20.1MB/s eta 0:00:01\r\u001b[K     |████████████████▊               | 30kB 17.0MB/s eta 0:00:01\r\u001b[K     |██████████████████████▎         | 40kB 14.7MB/s eta 0:00:01\r\u001b[K     |███████████████████████████▉    | 51kB 8.4MB/s eta 0:00:01\r\u001b[K     |████████████████████████████████| 61kB 4.6MB/s \n",
            "\u001b[?25hRequirement already satisfied: torch in /usr/local/lib/python3.7/dist-packages (from pretrainedmodels) (1.8.1+cu101)\n",
            "Requirement already satisfied: torchvision in /usr/local/lib/python3.7/dist-packages (from pretrainedmodels) (0.9.1+cu101)\n",
            "Collecting munch\n",
            "  Downloading https://files.pythonhosted.org/packages/cc/ab/85d8da5c9a45e072301beb37ad7f833cd344e04c817d97e0cc75681d248f/munch-2.5.0-py2.py3-none-any.whl\n",
            "Requirement already satisfied: tqdm in /usr/local/lib/python3.7/dist-packages (from pretrainedmodels) (4.41.1)\n",
            "Requirement already satisfied: typing-extensions in /usr/local/lib/python3.7/dist-packages (from torch->pretrainedmodels) (3.7.4.3)\n",
            "Requirement already satisfied: numpy in /usr/local/lib/python3.7/dist-packages (from torch->pretrainedmodels) (1.19.5)\n",
            "Requirement already satisfied: pillow>=4.1.1 in /usr/local/lib/python3.7/dist-packages (from torchvision->pretrainedmodels) (7.1.2)\n",
            "Requirement already satisfied: six in /usr/local/lib/python3.7/dist-packages (from munch->pretrainedmodels) (1.15.0)\n",
            "Building wheels for collected packages: pretrainedmodels\n",
            "  Building wheel for pretrainedmodels (setup.py) ... \u001b[?25l\u001b[?25hdone\n",
            "  Created wheel for pretrainedmodels: filename=pretrainedmodels-0.7.4-cp37-none-any.whl size=60963 sha256=dccbee084b105fd145e5c578dfdd17e7d61ca6122b6f8e6304b8367e687055a3\n",
            "  Stored in directory: /root/.cache/pip/wheels/69/df/63/62583c096289713f22db605aa2334de5b591d59861a02c2ecd\n",
            "Successfully built pretrainedmodels\n",
            "Installing collected packages: munch, pretrainedmodels\n",
            "Successfully installed munch-2.5.0 pretrainedmodels-0.7.4\n"
          ],
          "name": "stdout"
        }
      ]
    },
    {
      "cell_type": "code",
      "metadata": {
        "id": "LxKurNbAkv1F"
      },
      "source": [
        "class RandomErasing(object):\n",
        "    \"\"\" Randomly selects a rectangle region in an image and erases its pixels.\n",
        "        'Random Erasing Data Augmentation' by Zhong et al.\n",
        "        See https://arxiv.org/pdf/1708.04896.pdf\n",
        "    Args:\n",
        "         probability: The probability that the Random Erasing operation will be performed.\n",
        "         sl: Minimum proportion of erased area against input image.\n",
        "         sh: Maximum proportion of erased area against input image.\n",
        "         r1: Minimum aspect ratio of erased area.\n",
        "         mean: Erasing value. \n",
        "    \"\"\"\n",
        "    \n",
        "    def __init__(self, probability = 0.5, sl = 0.02, sh = 0.4, r1 = 0.3, mean=[0.4914, 0.4822, 0.4465]):\n",
        "        self.probability = probability\n",
        "        self.mean = mean\n",
        "        self.sl = sl\n",
        "        self.sh = sh\n",
        "        self.r1 = r1\n",
        "       \n",
        "    def __call__(self, img):\n",
        "\n",
        "        if random.uniform(0, 1) > self.probability:\n",
        "            return img\n",
        "\n",
        "        for attempt in range(100):\n",
        "            area = img.size()[1] * img.size()[2]\n",
        "       \n",
        "            target_area = random.uniform(self.sl, self.sh) * area\n",
        "            aspect_ratio = random.uniform(self.r1, 1/self.r1)\n",
        "\n",
        "            h = int(round(math.sqrt(target_area * aspect_ratio)))\n",
        "            w = int(round(math.sqrt(target_area / aspect_ratio)))\n",
        "\n",
        "            if w < img.size()[2] and h < img.size()[1]:\n",
        "                x1 = random.randint(0, img.size()[1] - h)\n",
        "                y1 = random.randint(0, img.size()[2] - w)\n",
        "                if img.size()[0] == 3:\n",
        "                    img[0, x1:x1+h, y1:y1+w] = self.mean[0]\n",
        "                    img[1, x1:x1+h, y1:y1+w] = self.mean[1]\n",
        "                    img[2, x1:x1+h, y1:y1+w] = self.mean[2]\n",
        "                else:\n",
        "                    img[0, x1:x1+h, y1:y1+w] = self.mean[0]\n",
        "                return img\n",
        "\n",
        "        return img\n"
      ],
      "execution_count": null,
      "outputs": []
    },
    {
      "cell_type": "markdown",
      "metadata": {
        "id": "MnDh9xuM3d5k"
      },
      "source": [
        "### Check"
      ]
    },
    {
      "cell_type": "code",
      "metadata": {
        "colab": {
          "base_uri": "https://localhost:8080/"
        },
        "id": "n58GpYhvbdOE",
        "outputId": "a9e32444-7b8d-4b93-caf1-5529699e1ab3"
      },
      "source": [
        "print(f\"\\n cuda is available:　{torch.cuda.is_available()}\",\n",
        "      f\"\\n device count     :  {torch.cuda.device_count()}\",\n",
        "      f\"\\n device name      :  {torch.cuda.get_device_name(0)}\",)"
      ],
      "execution_count": null,
      "outputs": [
        {
          "output_type": "stream",
          "text": [
            "\n",
            " cuda is available:　True \n",
            " device count     :  1 \n",
            " device name      :  Tesla P100-PCIE-16GB\n"
          ],
          "name": "stdout"
        }
      ]
    },
    {
      "cell_type": "code",
      "metadata": {
        "id": "DsDMrVkAblB1"
      },
      "source": [
        "torch.cuda.set_device(0)\n",
        "device = torch.device('cuda' if torch.cuda.is_available() else 'cpu')\n",
        "cudnn.benchmark = True\n",
        "if device.type != 'cuda':\n",
        "    raise Exception(\"Please change runtime type to GPU\")"
      ],
      "execution_count": null,
      "outputs": []
    },
    {
      "cell_type": "code",
      "metadata": {
        "id": "kaSfV_Df6jWE"
      },
      "source": [
        "!rm -rf /usr/local/cuda\n",
        "!ln -s /usr/local/cuda-10.1 /usr/local/cuda"
      ],
      "execution_count": null,
      "outputs": []
    },
    {
      "cell_type": "code",
      "metadata": {
        "colab": {
          "base_uri": "https://localhost:8080/"
        },
        "id": "Ghykh956XMCk",
        "outputId": "b70567e3-1322-40d7-f9c2-84b2842dfb06"
      },
      "source": [
        "!nvcc --version\n",
        "print (torch.__version__)"
      ],
      "execution_count": null,
      "outputs": [
        {
          "output_type": "stream",
          "text": [
            "nvcc: NVIDIA (R) Cuda compiler driver\n",
            "Copyright (c) 2005-2019 NVIDIA Corporation\n",
            "Built on Sun_Jul_28_19:07:16_PDT_2019\n",
            "Cuda compilation tools, release 10.1, V10.1.243\n",
            "1.8.1+cu101\n"
          ],
          "name": "stdout"
        }
      ]
    },
    {
      "cell_type": "markdown",
      "metadata": {
        "id": "bxeLrMFlY_9b"
      },
      "source": [
        "## Dataset Download"
      ]
    },
    {
      "cell_type": "markdown",
      "metadata": {
        "id": "o4QV5CTLYp8T"
      },
      "source": [
        "For Market-1501, the image name contains the identity label and camera id"
      ]
    },
    {
      "cell_type": "markdown",
      "metadata": {
        "id": "ca3FB1sv85V_"
      },
      "source": [
        "```\n",
        "├── Market/  \n",
        "│   ├── bounding_box_test/      /* Files for   testing (candidate images pool)   \n",
        "│   ├── bounding_box_train/     /* Files for   training   \n",
        "│   ├── gt_bbox/                /* Files for   multiple query testing   \n",
        "│   ├── gt_query/               /* We do not use it   \n",
        "│   ├── query/                  /* Files for   testing (query images)  \n",
        "│   ├── readme.txt  \n",
        "```"
      ]
    },
    {
      "cell_type": "code",
      "metadata": {
        "colab": {
          "base_uri": "https://localhost:8080/"
        },
        "id": "LRRNcXHdM5Yc",
        "outputId": "16fbcfc4-6524-4756-9248-db0800bd57f0"
      },
      "source": [
        "!gdown https://drive.google.com/uc?id=1dvELil1G_wa5htdw-QOLunRUwpoZgfG0\n",
        "!unzip -q Market-1501-v15.09.15.zip \n",
        "!mv Market-1501-v15.09.15 Market"
      ],
      "execution_count": null,
      "outputs": [
        {
          "output_type": "stream",
          "text": [
            "Downloading...\n",
            "From: https://drive.google.com/uc?id=1dvELil1G_wa5htdw-QOLunRUwpoZgfG0\n",
            "To: /content/Market-1501-v15.09.15.zip\n",
            "153MB [00:02, 70.4MB/s]\n"
          ],
          "name": "stdout"
        }
      ]
    },
    {
      "cell_type": "code",
      "metadata": {
        "id": "2PvdcxNkDyDZ"
      },
      "source": [
        "def CopyFile(Path, Save_Path):\n",
        "  for root, dirs, files in os.walk(Path, topdown=True):\n",
        "    for name in files:\n",
        "        if not name[-3:]=='jpg':\n",
        "            continue\n",
        "        ID  = name.split('_')\n",
        "        src_path = Path + '/' + name\n",
        "        dst_path = Save_Path + '/' + ID[0] \n",
        "        if not os.path.isdir(dst_path):\n",
        "            os.mkdir(dst_path)\n",
        "        copyfile(src_path, dst_path + '/' + name)"
      ],
      "execution_count": null,
      "outputs": []
    },
    {
      "cell_type": "code",
      "metadata": {
        "id": "kWBXvTExHoHz"
      },
      "source": [
        "def Prepare_Data(Path, Save_Path):\n",
        "  if not os.path.isdir(Save_Path):\n",
        "    os.mkdir(Save_Path)\n",
        "\n",
        "  CopyFile(Path, Save_Path)"
      ],
      "execution_count": null,
      "outputs": []
    },
    {
      "cell_type": "code",
      "metadata": {
        "id": "MoFn9_BBSgXF"
      },
      "source": [
        "# Define your dataset download path\n",
        "download_path = '/content/Market'\n",
        "\n",
        "if not os.path.isdir(download_path):\n",
        "    print('please change the download_path')\n",
        "\n",
        "save_path = download_path + '/pytorch'\n",
        "if not os.path.isdir(save_path):\n",
        "    os.mkdir(save_path)"
      ],
      "execution_count": null,
      "outputs": []
    },
    {
      "cell_type": "code",
      "metadata": {
        "id": "izum7_ysTFSw"
      },
      "source": [
        "#query\n",
        "query_path = download_path + '/query'\n",
        "query_save_path = download_path + '/pytorch/query'\n",
        "Prepare_Data(query_path, query_save_path)\n",
        "\n",
        "#multi-query\n",
        "query_path = download_path + '/gt_bbox'\n",
        "# for dukemtmc-reid, we do not need multi-query\n",
        "if os.path.isdir(query_path):\n",
        "    query_save_path = download_path + '/pytorch/multi-query'\n",
        "    Prepare_Data(query_path, query_save_path)\n",
        "\n",
        "#gallery\n",
        "gallery_path = download_path + '/bounding_box_test'\n",
        "gallery_save_path = download_path + '/pytorch/gallery'\n",
        "Prepare_Data(gallery_path, gallery_save_path)\n",
        "\n",
        "#train_all\n",
        "train_path = download_path + '/bounding_box_train'\n",
        "train_save_path = download_path + '/pytorch/train_all'\n",
        "Prepare_Data(train_path, train_save_path)"
      ],
      "execution_count": null,
      "outputs": []
    },
    {
      "cell_type": "code",
      "metadata": {
        "id": "Oy3zrb5UT_M1"
      },
      "source": [
        "#train_val\n",
        "train_path = download_path + '/bounding_box_train'\n",
        "train_save_path = download_path + '/pytorch/train'\n",
        "val_save_path = download_path + '/pytorch/val'\n",
        "if not os.path.isdir(train_save_path):\n",
        "    os.mkdir(train_save_path)\n",
        "    os.mkdir(val_save_path)\n",
        "\n",
        "for root, dirs, files in os.walk(train_path, topdown=True):\n",
        "    for name in files:\n",
        "        if not name[-3:]=='jpg':\n",
        "            continue\n",
        "        ID  = name.split('_')\n",
        "        src_path = train_path + '/' + name\n",
        "        dst_path = train_save_path + '/' + ID[0]\n",
        "        if not os.path.isdir(dst_path):\n",
        "            os.mkdir(dst_path)\n",
        "            # first image is used as val image\n",
        "            dst_path = val_save_path + '/' + ID[0]  \n",
        "            os.mkdir(dst_path)\n",
        "        copyfile(src_path, dst_path + '/' + name)"
      ],
      "execution_count": null,
      "outputs": []
    },
    {
      "cell_type": "markdown",
      "metadata": {
        "id": "hT1c2nCYZG79"
      },
      "source": [
        "# Build Neural Network"
      ]
    },
    {
      "cell_type": "markdown",
      "metadata": {
        "id": "fC0SC_DaZURq"
      },
      "source": [
        "We can use the pretrained networks, such as AlexNet, VGG16, ResNet and DenseNet.  \n",
        "Generally, the pretrained networks help to achieve a better performance,  \n",
        "since it preserves some good visual patterns from ImageNet"
      ]
    },
    {
      "cell_type": "markdown",
      "metadata": {
        "id": "TuaV6LNOZnCM"
      },
      "source": [
        "In pytorch, we can easily import them. For example,"
      ]
    },
    {
      "cell_type": "code",
      "metadata": {
        "colab": {
          "base_uri": "https://localhost:8080/",
          "height": 87,
          "referenced_widgets": [
            "ac28d5bd4015489499a3106085f34d90",
            "cf77b20113d44a28a05280c17543cee2",
            "53e92737afd3437b861625c2efaf592d",
            "bd947fceb35941e4b88ea5bf7dabedf7",
            "ca3c4f570e254a319eb6ba401dd5fd27",
            "20b03a9d94e948e4830041e13b6ef16f",
            "6027b75b43dc4c07891ff82c01d079c8",
            "18d4126e43234f4398c617517757f330"
          ]
        },
        "id": "eI8BPkfsZf-6",
        "outputId": "876a9b67-4bd6-42d1-afcc-6dfa5469893d"
      },
      "source": [
        "model = models.resnet50(pretrained=True)"
      ],
      "execution_count": null,
      "outputs": [
        {
          "output_type": "stream",
          "text": [
            "Downloading: \"https://download.pytorch.org/models/resnet50-19c8e357.pth\" to /root/.cache/torch/hub/checkpoints/resnet50-19c8e357.pth\n"
          ],
          "name": "stderr"
        },
        {
          "output_type": "display_data",
          "data": {
            "application/vnd.jupyter.widget-view+json": {
              "model_id": "ac28d5bd4015489499a3106085f34d90",
              "version_minor": 0,
              "version_major": 2
            },
            "text/plain": [
              "HBox(children=(FloatProgress(value=0.0, max=102502400.0), HTML(value='')))"
            ]
          },
          "metadata": {
            "tags": []
          }
        },
        {
          "output_type": "stream",
          "text": [
            "\n"
          ],
          "name": "stdout"
        }
      ]
    },
    {
      "cell_type": "code",
      "metadata": {
        "colab": {
          "base_uri": "https://localhost:8080/"
        },
        "id": "yS8UjNG2ZsE8",
        "outputId": "243d2cb1-fd20-4adc-9e7a-e82c43308710"
      },
      "source": [
        "print(model)"
      ],
      "execution_count": null,
      "outputs": [
        {
          "output_type": "stream",
          "text": [
            "ResNet(\n",
            "  (conv1): Conv2d(3, 64, kernel_size=(7, 7), stride=(2, 2), padding=(3, 3), bias=False)\n",
            "  (bn1): BatchNorm2d(64, eps=1e-05, momentum=0.1, affine=True, track_running_stats=True)\n",
            "  (relu): ReLU(inplace=True)\n",
            "  (maxpool): MaxPool2d(kernel_size=3, stride=2, padding=1, dilation=1, ceil_mode=False)\n",
            "  (layer1): Sequential(\n",
            "    (0): Bottleneck(\n",
            "      (conv1): Conv2d(64, 64, kernel_size=(1, 1), stride=(1, 1), bias=False)\n",
            "      (bn1): BatchNorm2d(64, eps=1e-05, momentum=0.1, affine=True, track_running_stats=True)\n",
            "      (conv2): Conv2d(64, 64, kernel_size=(3, 3), stride=(1, 1), padding=(1, 1), bias=False)\n",
            "      (bn2): BatchNorm2d(64, eps=1e-05, momentum=0.1, affine=True, track_running_stats=True)\n",
            "      (conv3): Conv2d(64, 256, kernel_size=(1, 1), stride=(1, 1), bias=False)\n",
            "      (bn3): BatchNorm2d(256, eps=1e-05, momentum=0.1, affine=True, track_running_stats=True)\n",
            "      (relu): ReLU(inplace=True)\n",
            "      (downsample): Sequential(\n",
            "        (0): Conv2d(64, 256, kernel_size=(1, 1), stride=(1, 1), bias=False)\n",
            "        (1): BatchNorm2d(256, eps=1e-05, momentum=0.1, affine=True, track_running_stats=True)\n",
            "      )\n",
            "    )\n",
            "    (1): Bottleneck(\n",
            "      (conv1): Conv2d(256, 64, kernel_size=(1, 1), stride=(1, 1), bias=False)\n",
            "      (bn1): BatchNorm2d(64, eps=1e-05, momentum=0.1, affine=True, track_running_stats=True)\n",
            "      (conv2): Conv2d(64, 64, kernel_size=(3, 3), stride=(1, 1), padding=(1, 1), bias=False)\n",
            "      (bn2): BatchNorm2d(64, eps=1e-05, momentum=0.1, affine=True, track_running_stats=True)\n",
            "      (conv3): Conv2d(64, 256, kernel_size=(1, 1), stride=(1, 1), bias=False)\n",
            "      (bn3): BatchNorm2d(256, eps=1e-05, momentum=0.1, affine=True, track_running_stats=True)\n",
            "      (relu): ReLU(inplace=True)\n",
            "    )\n",
            "    (2): Bottleneck(\n",
            "      (conv1): Conv2d(256, 64, kernel_size=(1, 1), stride=(1, 1), bias=False)\n",
            "      (bn1): BatchNorm2d(64, eps=1e-05, momentum=0.1, affine=True, track_running_stats=True)\n",
            "      (conv2): Conv2d(64, 64, kernel_size=(3, 3), stride=(1, 1), padding=(1, 1), bias=False)\n",
            "      (bn2): BatchNorm2d(64, eps=1e-05, momentum=0.1, affine=True, track_running_stats=True)\n",
            "      (conv3): Conv2d(64, 256, kernel_size=(1, 1), stride=(1, 1), bias=False)\n",
            "      (bn3): BatchNorm2d(256, eps=1e-05, momentum=0.1, affine=True, track_running_stats=True)\n",
            "      (relu): ReLU(inplace=True)\n",
            "    )\n",
            "  )\n",
            "  (layer2): Sequential(\n",
            "    (0): Bottleneck(\n",
            "      (conv1): Conv2d(256, 128, kernel_size=(1, 1), stride=(1, 1), bias=False)\n",
            "      (bn1): BatchNorm2d(128, eps=1e-05, momentum=0.1, affine=True, track_running_stats=True)\n",
            "      (conv2): Conv2d(128, 128, kernel_size=(3, 3), stride=(2, 2), padding=(1, 1), bias=False)\n",
            "      (bn2): BatchNorm2d(128, eps=1e-05, momentum=0.1, affine=True, track_running_stats=True)\n",
            "      (conv3): Conv2d(128, 512, kernel_size=(1, 1), stride=(1, 1), bias=False)\n",
            "      (bn3): BatchNorm2d(512, eps=1e-05, momentum=0.1, affine=True, track_running_stats=True)\n",
            "      (relu): ReLU(inplace=True)\n",
            "      (downsample): Sequential(\n",
            "        (0): Conv2d(256, 512, kernel_size=(1, 1), stride=(2, 2), bias=False)\n",
            "        (1): BatchNorm2d(512, eps=1e-05, momentum=0.1, affine=True, track_running_stats=True)\n",
            "      )\n",
            "    )\n",
            "    (1): Bottleneck(\n",
            "      (conv1): Conv2d(512, 128, kernel_size=(1, 1), stride=(1, 1), bias=False)\n",
            "      (bn1): BatchNorm2d(128, eps=1e-05, momentum=0.1, affine=True, track_running_stats=True)\n",
            "      (conv2): Conv2d(128, 128, kernel_size=(3, 3), stride=(1, 1), padding=(1, 1), bias=False)\n",
            "      (bn2): BatchNorm2d(128, eps=1e-05, momentum=0.1, affine=True, track_running_stats=True)\n",
            "      (conv3): Conv2d(128, 512, kernel_size=(1, 1), stride=(1, 1), bias=False)\n",
            "      (bn3): BatchNorm2d(512, eps=1e-05, momentum=0.1, affine=True, track_running_stats=True)\n",
            "      (relu): ReLU(inplace=True)\n",
            "    )\n",
            "    (2): Bottleneck(\n",
            "      (conv1): Conv2d(512, 128, kernel_size=(1, 1), stride=(1, 1), bias=False)\n",
            "      (bn1): BatchNorm2d(128, eps=1e-05, momentum=0.1, affine=True, track_running_stats=True)\n",
            "      (conv2): Conv2d(128, 128, kernel_size=(3, 3), stride=(1, 1), padding=(1, 1), bias=False)\n",
            "      (bn2): BatchNorm2d(128, eps=1e-05, momentum=0.1, affine=True, track_running_stats=True)\n",
            "      (conv3): Conv2d(128, 512, kernel_size=(1, 1), stride=(1, 1), bias=False)\n",
            "      (bn3): BatchNorm2d(512, eps=1e-05, momentum=0.1, affine=True, track_running_stats=True)\n",
            "      (relu): ReLU(inplace=True)\n",
            "    )\n",
            "    (3): Bottleneck(\n",
            "      (conv1): Conv2d(512, 128, kernel_size=(1, 1), stride=(1, 1), bias=False)\n",
            "      (bn1): BatchNorm2d(128, eps=1e-05, momentum=0.1, affine=True, track_running_stats=True)\n",
            "      (conv2): Conv2d(128, 128, kernel_size=(3, 3), stride=(1, 1), padding=(1, 1), bias=False)\n",
            "      (bn2): BatchNorm2d(128, eps=1e-05, momentum=0.1, affine=True, track_running_stats=True)\n",
            "      (conv3): Conv2d(128, 512, kernel_size=(1, 1), stride=(1, 1), bias=False)\n",
            "      (bn3): BatchNorm2d(512, eps=1e-05, momentum=0.1, affine=True, track_running_stats=True)\n",
            "      (relu): ReLU(inplace=True)\n",
            "    )\n",
            "  )\n",
            "  (layer3): Sequential(\n",
            "    (0): Bottleneck(\n",
            "      (conv1): Conv2d(512, 256, kernel_size=(1, 1), stride=(1, 1), bias=False)\n",
            "      (bn1): BatchNorm2d(256, eps=1e-05, momentum=0.1, affine=True, track_running_stats=True)\n",
            "      (conv2): Conv2d(256, 256, kernel_size=(3, 3), stride=(2, 2), padding=(1, 1), bias=False)\n",
            "      (bn2): BatchNorm2d(256, eps=1e-05, momentum=0.1, affine=True, track_running_stats=True)\n",
            "      (conv3): Conv2d(256, 1024, kernel_size=(1, 1), stride=(1, 1), bias=False)\n",
            "      (bn3): BatchNorm2d(1024, eps=1e-05, momentum=0.1, affine=True, track_running_stats=True)\n",
            "      (relu): ReLU(inplace=True)\n",
            "      (downsample): Sequential(\n",
            "        (0): Conv2d(512, 1024, kernel_size=(1, 1), stride=(2, 2), bias=False)\n",
            "        (1): BatchNorm2d(1024, eps=1e-05, momentum=0.1, affine=True, track_running_stats=True)\n",
            "      )\n",
            "    )\n",
            "    (1): Bottleneck(\n",
            "      (conv1): Conv2d(1024, 256, kernel_size=(1, 1), stride=(1, 1), bias=False)\n",
            "      (bn1): BatchNorm2d(256, eps=1e-05, momentum=0.1, affine=True, track_running_stats=True)\n",
            "      (conv2): Conv2d(256, 256, kernel_size=(3, 3), stride=(1, 1), padding=(1, 1), bias=False)\n",
            "      (bn2): BatchNorm2d(256, eps=1e-05, momentum=0.1, affine=True, track_running_stats=True)\n",
            "      (conv3): Conv2d(256, 1024, kernel_size=(1, 1), stride=(1, 1), bias=False)\n",
            "      (bn3): BatchNorm2d(1024, eps=1e-05, momentum=0.1, affine=True, track_running_stats=True)\n",
            "      (relu): ReLU(inplace=True)\n",
            "    )\n",
            "    (2): Bottleneck(\n",
            "      (conv1): Conv2d(1024, 256, kernel_size=(1, 1), stride=(1, 1), bias=False)\n",
            "      (bn1): BatchNorm2d(256, eps=1e-05, momentum=0.1, affine=True, track_running_stats=True)\n",
            "      (conv2): Conv2d(256, 256, kernel_size=(3, 3), stride=(1, 1), padding=(1, 1), bias=False)\n",
            "      (bn2): BatchNorm2d(256, eps=1e-05, momentum=0.1, affine=True, track_running_stats=True)\n",
            "      (conv3): Conv2d(256, 1024, kernel_size=(1, 1), stride=(1, 1), bias=False)\n",
            "      (bn3): BatchNorm2d(1024, eps=1e-05, momentum=0.1, affine=True, track_running_stats=True)\n",
            "      (relu): ReLU(inplace=True)\n",
            "    )\n",
            "    (3): Bottleneck(\n",
            "      (conv1): Conv2d(1024, 256, kernel_size=(1, 1), stride=(1, 1), bias=False)\n",
            "      (bn1): BatchNorm2d(256, eps=1e-05, momentum=0.1, affine=True, track_running_stats=True)\n",
            "      (conv2): Conv2d(256, 256, kernel_size=(3, 3), stride=(1, 1), padding=(1, 1), bias=False)\n",
            "      (bn2): BatchNorm2d(256, eps=1e-05, momentum=0.1, affine=True, track_running_stats=True)\n",
            "      (conv3): Conv2d(256, 1024, kernel_size=(1, 1), stride=(1, 1), bias=False)\n",
            "      (bn3): BatchNorm2d(1024, eps=1e-05, momentum=0.1, affine=True, track_running_stats=True)\n",
            "      (relu): ReLU(inplace=True)\n",
            "    )\n",
            "    (4): Bottleneck(\n",
            "      (conv1): Conv2d(1024, 256, kernel_size=(1, 1), stride=(1, 1), bias=False)\n",
            "      (bn1): BatchNorm2d(256, eps=1e-05, momentum=0.1, affine=True, track_running_stats=True)\n",
            "      (conv2): Conv2d(256, 256, kernel_size=(3, 3), stride=(1, 1), padding=(1, 1), bias=False)\n",
            "      (bn2): BatchNorm2d(256, eps=1e-05, momentum=0.1, affine=True, track_running_stats=True)\n",
            "      (conv3): Conv2d(256, 1024, kernel_size=(1, 1), stride=(1, 1), bias=False)\n",
            "      (bn3): BatchNorm2d(1024, eps=1e-05, momentum=0.1, affine=True, track_running_stats=True)\n",
            "      (relu): ReLU(inplace=True)\n",
            "    )\n",
            "    (5): Bottleneck(\n",
            "      (conv1): Conv2d(1024, 256, kernel_size=(1, 1), stride=(1, 1), bias=False)\n",
            "      (bn1): BatchNorm2d(256, eps=1e-05, momentum=0.1, affine=True, track_running_stats=True)\n",
            "      (conv2): Conv2d(256, 256, kernel_size=(3, 3), stride=(1, 1), padding=(1, 1), bias=False)\n",
            "      (bn2): BatchNorm2d(256, eps=1e-05, momentum=0.1, affine=True, track_running_stats=True)\n",
            "      (conv3): Conv2d(256, 1024, kernel_size=(1, 1), stride=(1, 1), bias=False)\n",
            "      (bn3): BatchNorm2d(1024, eps=1e-05, momentum=0.1, affine=True, track_running_stats=True)\n",
            "      (relu): ReLU(inplace=True)\n",
            "    )\n",
            "  )\n",
            "  (layer4): Sequential(\n",
            "    (0): Bottleneck(\n",
            "      (conv1): Conv2d(1024, 512, kernel_size=(1, 1), stride=(1, 1), bias=False)\n",
            "      (bn1): BatchNorm2d(512, eps=1e-05, momentum=0.1, affine=True, track_running_stats=True)\n",
            "      (conv2): Conv2d(512, 512, kernel_size=(3, 3), stride=(2, 2), padding=(1, 1), bias=False)\n",
            "      (bn2): BatchNorm2d(512, eps=1e-05, momentum=0.1, affine=True, track_running_stats=True)\n",
            "      (conv3): Conv2d(512, 2048, kernel_size=(1, 1), stride=(1, 1), bias=False)\n",
            "      (bn3): BatchNorm2d(2048, eps=1e-05, momentum=0.1, affine=True, track_running_stats=True)\n",
            "      (relu): ReLU(inplace=True)\n",
            "      (downsample): Sequential(\n",
            "        (0): Conv2d(1024, 2048, kernel_size=(1, 1), stride=(2, 2), bias=False)\n",
            "        (1): BatchNorm2d(2048, eps=1e-05, momentum=0.1, affine=True, track_running_stats=True)\n",
            "      )\n",
            "    )\n",
            "    (1): Bottleneck(\n",
            "      (conv1): Conv2d(2048, 512, kernel_size=(1, 1), stride=(1, 1), bias=False)\n",
            "      (bn1): BatchNorm2d(512, eps=1e-05, momentum=0.1, affine=True, track_running_stats=True)\n",
            "      (conv2): Conv2d(512, 512, kernel_size=(3, 3), stride=(1, 1), padding=(1, 1), bias=False)\n",
            "      (bn2): BatchNorm2d(512, eps=1e-05, momentum=0.1, affine=True, track_running_stats=True)\n",
            "      (conv3): Conv2d(512, 2048, kernel_size=(1, 1), stride=(1, 1), bias=False)\n",
            "      (bn3): BatchNorm2d(2048, eps=1e-05, momentum=0.1, affine=True, track_running_stats=True)\n",
            "      (relu): ReLU(inplace=True)\n",
            "    )\n",
            "    (2): Bottleneck(\n",
            "      (conv1): Conv2d(2048, 512, kernel_size=(1, 1), stride=(1, 1), bias=False)\n",
            "      (bn1): BatchNorm2d(512, eps=1e-05, momentum=0.1, affine=True, track_running_stats=True)\n",
            "      (conv2): Conv2d(512, 512, kernel_size=(3, 3), stride=(1, 1), padding=(1, 1), bias=False)\n",
            "      (bn2): BatchNorm2d(512, eps=1e-05, momentum=0.1, affine=True, track_running_stats=True)\n",
            "      (conv3): Conv2d(512, 2048, kernel_size=(1, 1), stride=(1, 1), bias=False)\n",
            "      (bn3): BatchNorm2d(2048, eps=1e-05, momentum=0.1, affine=True, track_running_stats=True)\n",
            "      (relu): ReLU(inplace=True)\n",
            "    )\n",
            "  )\n",
            "  (avgpool): AdaptiveAvgPool2d(output_size=(1, 1))\n",
            "  (fc): Linear(in_features=2048, out_features=1000, bias=True)\n",
            ")\n"
          ],
          "name": "stdout"
        }
      ]
    },
    {
      "cell_type": "markdown",
      "metadata": {
        "id": "Qp_3h3hPZ3NV"
      },
      "source": [
        "But we need to modify the networks a little bit.  \n",
        "There are 751 classes (different people) in Market-1501,  \n",
        "which is different with 1,000 classes in ResNet.fc.  \n",
        "So here we need to define a new fc layer."
      ]
    },
    {
      "cell_type": "markdown",
      "metadata": {
        "id": "JN_iDXLXu5ub"
      },
      "source": [
        "## 1. Define the weight initialization function."
      ]
    },
    {
      "cell_type": "code",
      "metadata": {
        "id": "U5glvfg7vBf9"
      },
      "source": [
        "def weights_init_kaiming(m):\n",
        "    classname = m.__class__.__name__\n",
        "    # print(classname)\n",
        "    if classname.find('Conv') != -1:\n",
        "        # Choosing fan_in preserves the magnitude of the variance\n",
        "        # of the weights in the forward pass. \n",
        "        init.kaiming_normal_(m.weight.data, a=0, mode='fan_in')\n",
        "    elif classname.find('Linear') != -1:\n",
        "        # Choosing fan_out preserves the magnitudes \n",
        "        # in the backwards pass.\n",
        "        init.kaiming_normal_(m.weight.data, a=0, mode='fan_out')\n",
        "        init.constant_(m.bias.data, 0.0)\n",
        "    elif classname.find('BatchNorm1d') != -1:\n",
        "        init.normal_(m.weight.data, 1.0, 0.02)\n",
        "        init.constant_(m.bias.data, 0.0)\n",
        "\n",
        "def weights_init_classifier(m):\n",
        "    classname = m.__class__.__name__\n",
        "    if classname.find('Linear') != -1:\n",
        "        init.normal_(m.weight.data, std=0.001)\n",
        "        init.constant_(m.bias.data, 0.0)"
      ],
      "execution_count": null,
      "outputs": []
    },
    {
      "cell_type": "markdown",
      "metadata": {
        "id": "bfx8OXm2x1zA"
      },
      "source": [
        "## 2. Defines new classifier layer"
      ]
    },
    {
      "cell_type": "markdown",
      "metadata": {
        "id": "1RKHjo4uyMz4"
      },
      "source": [
        "|--Linear--|--bn--|--relu--|--Linear--|  \n",
        "Use Batch Normalization to avoid \"Internal Covariate Shift\",  \n",
        "which keep the input of each layer of the neural network equally distributed  \n",
        "and avoid gradient disappearance."
      ]
    },
    {
      "cell_type": "code",
      "metadata": {
        "id": "RManEwB6yHKR"
      },
      "source": [
        "class ClassTransferLayer(nn.Module):\n",
        "    def __init__(self, input_dim, class_num, droprate, relu=False, bnorm=True, num_bottleneck=512, linear=True):\n",
        "        super(ClassTransferLayer, self).__init__()\n",
        "        layers = []\n",
        "        if linear:\n",
        "            layers += [nn.Linear(input_dim, num_bottleneck)]\n",
        "        else:\n",
        "            num_bottleneck = input_dim\n",
        "        if bnorm:\n",
        "            layers += [nn.BatchNorm1d(num_bottleneck)]\n",
        "        if relu:\n",
        "            layers += [nn.LeakyReLU(0.1)]\n",
        "        if droprate > 0:\n",
        "            layers += [nn.Dropout(p=droprate)]\n",
        "        # add layers to the network\n",
        "        layers = nn.Sequential(*layers)\n",
        "        # weight initialization\n",
        "        layers.apply(weights_init_kaiming)\n",
        "\n",
        "        classifier = []\n",
        "        classifier += [nn.Linear(num_bottleneck, class_num)]\n",
        "        classifier = nn.Sequential(*classifier)\n",
        "        classifier.apply(weights_init_classifier)\n",
        "\n",
        "        self.layers = layers\n",
        "        self.classifier = classifier\n",
        "    def forward(self, x):\n",
        "        x = self.layers(x)\n",
        "        x = self.classifier(x)\n",
        "        return x"
      ],
      "execution_count": null,
      "outputs": []
    },
    {
      "cell_type": "markdown",
      "metadata": {
        "id": "OTLCBafL4Re5"
      },
      "source": [
        "## Define the ResNet50-based Model"
      ]
    },
    {
      "cell_type": "code",
      "metadata": {
        "id": "eWZf7tS9Z0Cf"
      },
      "source": [
        "class ft_net(nn.Module):\n",
        "    def __init__(self, class_num, droprate=0.5, stride=2):\n",
        "        super(ft_net, self).__init__()\n",
        "        # load the pretrained model\n",
        "        model_ft = models.resnet50(pretrained=True)\n",
        "        # change avg pooling to global pooling\n",
        "        if stride == 1:\n",
        "            model_ft.layer4[0].downsample[0].stride = (1,1)\n",
        "            model_ft.layer4[0].conv2.stride = (1,1)\n",
        "        # change avg pooling to global pooling\n",
        "        model_ft.avgpool = nn.AdaptiveAvgPool2d((1,1))\n",
        "        self.model = model_ft\n",
        "        self.classifier = ClassTransferLayer(2048, class_num, droprate=droprate)\n",
        "\n",
        "    def forward(self, x):\n",
        "        x = self.model.conv1(x)\n",
        "        x = self.model.bn1(x)\n",
        "        x = self.model.relu(x)\n",
        "        x = self.model.maxpool(x)\n",
        "        x = self.model.layer1(x)\n",
        "        x = self.model.layer2(x)\n",
        "        x = self.model.layer3(x)\n",
        "        x = self.model.layer4(x)\n",
        "        x = self.model.avgpool(x)\n",
        "        x = x.view(x.size(0), x.size(1))\n",
        "        x = self.classifier(x)\n",
        "        return x\n"
      ],
      "execution_count": null,
      "outputs": []
    },
    {
      "cell_type": "markdown",
      "metadata": {
        "id": "q9p0TOOKa7bN"
      },
      "source": [
        "# Data Preparation"
      ]
    },
    {
      "cell_type": "markdown",
      "metadata": {
        "id": "BnKafWLYqKr4"
      },
      "source": [
        "## Data Transformer"
      ]
    },
    {
      "cell_type": "code",
      "metadata": {
        "id": "iJ9XmnZVqF-M"
      },
      "source": [
        "transform_train_list = [\n",
        "        # Resize and use interpolation\n",
        "        transforms.Resize((256,128), interpolation=torchvision.transforms.functional.InterpolationMode.BICUBIC),\n",
        "        # Fill the image pixels, e.g. 20*20->40*40\n",
        "        transforms.Pad(10),\n",
        "        # Random center cut images\n",
        "        transforms.RandomCrop((256,128)),\n",
        "        # Random image flip horizontally, left-right alignment\n",
        "        transforms.RandomHorizontalFlip(),\n",
        "        transforms.ToTensor(),\n",
        "        # Data normalization, \n",
        "        # these values are sampled from the imagenet training set\n",
        "        # input[channel] = (input[channel] - mean[channel]) / std[channel]\n",
        "        transforms.Normalize([0.485, 0.456, 0.406], [0.229, 0.224, 0.225])\n",
        "]\n",
        "\n",
        "transform_val_list = [\n",
        "        transforms.Resize(size=(256,128), interpolation=transforms.functional.InterpolationMode.BICUBIC),\n",
        "        transforms.ToTensor(),\n",
        "        transforms.Normalize([0.485, 0.456, 0.406], [0.229, 0.224, 0.225])\n",
        "]"
      ],
      "execution_count": null,
      "outputs": []
    },
    {
      "cell_type": "code",
      "metadata": {
        "colab": {
          "base_uri": "https://localhost:8080/"
        },
        "id": "OPBjs58htMhu",
        "outputId": "be556130-87b4-4104-d88e-a82489d1abb6"
      },
      "source": [
        "erasing_p = 0\n",
        "color_jitter = False\n",
        "\n",
        "if erasing_p > 0:\n",
        "    transform_train_list = transform_train_list + \\\n",
        "    [RandomErasing(probability = erasing_p, mean=[0.0, 0.0, 0.0])]\n",
        "\n",
        "if color_jitter:\n",
        "    transform_train_list = [transforms.ColorJitter(\n",
        "        brightness=0.1, contrast=0.1, saturation=0.1, hue=0)] \\\n",
        "        + transform_train_list\n",
        "\n",
        "print(transform_train_list)\n",
        "# Stringing together multiple image transformation operations\n",
        "data_transforms = {\n",
        "    'train': transforms.Compose(transform_train_list),\n",
        "    'val': transforms.Compose(transform_val_list),\n",
        "}"
      ],
      "execution_count": null,
      "outputs": [
        {
          "output_type": "stream",
          "text": [
            "[Resize(size=(256, 128), interpolation=bicubic), Pad(padding=10, fill=0, padding_mode=constant), RandomCrop(size=(256, 128), padding=None), RandomHorizontalFlip(p=0.5), ToTensor(), Normalize(mean=[0.485, 0.456, 0.406], std=[0.229, 0.224, 0.225])]\n"
          ],
          "name": "stdout"
        }
      ]
    },
    {
      "cell_type": "markdown",
      "metadata": {
        "id": "atakJ5cfOWJk"
      },
      "source": [
        "## Load Data"
      ]
    },
    {
      "cell_type": "code",
      "metadata": {
        "id": "CynrJNISn6cQ"
      },
      "source": [
        "train_all = ''\n",
        "\n",
        "# load data\n",
        "data_dir = '/content/Market/pytorch'\n",
        "\n",
        "image_datasets = {}\n",
        "image_datasets['train'] = datasets.ImageFolder(\n",
        "    os.path.join(data_dir, 'train' + train_all), data_transforms['train'])\n",
        "image_datasets['val'] = datasets.ImageFolder(\n",
        "    os.path.join(data_dir, 'val'), data_transforms['val'])"
      ],
      "execution_count": null,
      "outputs": []
    },
    {
      "cell_type": "code",
      "metadata": {
        "id": "X_TaCpdev95T"
      },
      "source": [
        "batchsize=32\n",
        "# more workers may work faster\n",
        "dataloaders = {x: torch.utils.data.DataLoader(\n",
        "    image_datasets[x], batch_size=batchsize, \n",
        "    shuffle=True, num_workers=2, pin_memory=True) \n",
        "    for x in ['train', 'val']\n",
        "}"
      ],
      "execution_count": null,
      "outputs": []
    },
    {
      "cell_type": "code",
      "metadata": {
        "id": "pTYNQ4-JNvNO"
      },
      "source": [
        "dataset_sizes = {x: len(image_datasets[x]) for x in ['train', 'val']}\n",
        "train_class_names = image_datasets['train'].classes"
      ],
      "execution_count": null,
      "outputs": []
    },
    {
      "cell_type": "code",
      "metadata": {
        "colab": {
          "base_uri": "https://localhost:8080/"
        },
        "id": "Qua_mdY_Nzkj",
        "outputId": "7da5abfe-4c9c-4e7f-9081-de7b776a4622"
      },
      "source": [
        "since = time.time()\n",
        "inputs, classes = next(iter(dataloaders['train']))\n",
        "print(time.time()-since)"
      ],
      "execution_count": null,
      "outputs": [
        {
          "output_type": "stream",
          "text": [
            "5.884365797042847\n"
          ],
          "name": "stdout"
        }
      ]
    },
    {
      "cell_type": "code",
      "metadata": {
        "colab": {
          "base_uri": "https://localhost:8080/"
        },
        "id": "us1UrglSOLaq",
        "outputId": "46421b4b-21bd-4345-8998-e64ada2e5c26"
      },
      "source": [
        "print (dataset_sizes)"
      ],
      "execution_count": null,
      "outputs": [
        {
          "output_type": "stream",
          "text": [
            "{'train': 12185, 'val': 751}\n"
          ],
          "name": "stdout"
        }
      ]
    },
    {
      "cell_type": "markdown",
      "metadata": {
        "id": "p-0t8NHGOhqb"
      },
      "source": [
        "# Train the Model"
      ]
    },
    {
      "cell_type": "markdown",
      "metadata": {
        "id": "MfaaVlvc51ed"
      },
      "source": [
        "### Params Defined"
      ]
    },
    {
      "cell_type": "code",
      "metadata": {
        "id": "5ExCzDLwu2A_"
      },
      "source": [
        "# loss history\n",
        "y_loss = {'train':[], 'val':[]} \n",
        "y_err = {'train':[], 'val':[]}\n",
        "\n",
        "Params = {\n",
        "    \"train_class_num\" : len(train_class_names),\n",
        "    \"droprate\" : 0.5,\n",
        "    \"stride\" : 2,\n",
        "    \"lr\" : 0.05,\n",
        "    \"batchsize\" : 32,\n",
        "    \"warm_epoch\" : 5,\n",
        "    \"epochs\" : 60,\n",
        "}\n",
        "Loss = nn.CrossEntropyLoss()"
      ],
      "execution_count": null,
      "outputs": []
    },
    {
      "cell_type": "markdown",
      "metadata": {
        "id": "ZQEwNRHPKCPt"
      },
      "source": [
        "### Function Defined"
      ]
    },
    {
      "cell_type": "code",
      "metadata": {
        "colab": {
          "base_uri": "https://localhost:8080/",
          "height": 281
        },
        "id": "AOl5dJQip5C0",
        "outputId": "41036e70-ca2a-43b6-b133-be83f0f24cc0"
      },
      "source": [
        "# Draw Curve\n",
        "name = \"ft_ResNet50\"\n",
        "Path1 = \"/content/model\"\n",
        "if not os.path.isdir(Path1):\n",
        "    os.mkdir(Path1)\n",
        "Path2 = os.path.join('/content/model',name)\n",
        "if not os.path.isdir(Path2):\n",
        "    os.mkdir(Path2)\n",
        "x_epoch = []\n",
        "fig = plt.figure()\n",
        "ax0 = fig.add_subplot(121, title=\"loss\")\n",
        "ax1 = fig.add_subplot(122, title=\"err\")\n",
        "def draw_curve(current_epoch):\n",
        "    x_epoch.append(current_epoch)\n",
        "    ax0.plot(x_epoch, y_loss['train'], 'bo-', label='train')\n",
        "    ax0.plot(x_epoch, y_loss['val'], 'ro-', label='val')\n",
        "    ax1.plot(x_epoch, y_err['train'], 'bo-', label='train')\n",
        "    ax1.plot(x_epoch, y_err['val'], 'ro-', label='val')\n",
        "    if current_epoch == 0:\n",
        "        ax0.legend()\n",
        "        ax1.legend()\n",
        "    fig.savefig( os.path.join('/content/model',name,'train.png'))\n",
        "\n",
        "# Save model\n",
        "def save_network(network, epoch_label):\n",
        "    save_filename = 'net_%s.pth'% epoch_label\n",
        "    save_path = os.path.join('/content/model',name,save_filename)\n",
        "    torch.save(network.cpu().state_dict(), save_path)\n",
        "    if torch.cuda.is_available():\n",
        "        network.cuda()"
      ],
      "execution_count": null,
      "outputs": [
        {
          "output_type": "display_data",
          "data": {
            "image/png": "[encoded data removed]",
            "text/plain": [
              "<Figure size 432x288 with 2 Axes>"
            ]
          },
          "metadata": {
            "tags": [],
            "needs_background": "light"
          }
        }
      ]
    },
    {
      "cell_type": "code",
      "metadata": {
        "id": "5_Nu0EFsFmg4"
      },
      "source": [
        "def check_best_model():\n",
        "    if len(y_loss['train']) == 0 or len(y_loss['val']) == 0:\n",
        "        return True\n",
        "    elif y_loss['train'][-1] == min(y_loss['train']) and y_loss['val'][-1] == min(y_loss['val']):\n",
        "        return True\n",
        "\n",
        "    return False"
      ],
      "execution_count": null,
      "outputs": []
    },
    {
      "cell_type": "code",
      "metadata": {
        "id": "k17sBz2c0zBu"
      },
      "source": [
        "def train(model, Loss, optimizer, scheduler, Params):\n",
        "    begin = time.time()\n",
        "\n",
        "    # start from the 0.1*lrRate\n",
        "    warm_up = 0.1 \n",
        "    warm_iteration = round(dataset_sizes['train']/Params['batchsize'])*Params['warm_epoch']\n",
        "    best_epoch = 0\n",
        "    epochs = Params.get(\"epochs\", 25)\n",
        "\n",
        "    for epoch in range(epochs):\n",
        "        print('Epoch {}/{}'.format(epoch + 1, epochs))\n",
        "        print('-' * 10)\n",
        "\n",
        "        # Each epoch has a training and validation phase\n",
        "        for class_ in ['train', 'val']:\n",
        "            if class_ == 'train':\n",
        "                # Set model to training mode\n",
        "                model.train(True)\n",
        "            else:\n",
        "                # Set model to evaluate mode\n",
        "                model.train(False)\n",
        "\n",
        "            running_loss = 0.0\n",
        "            running_corrects = 0.0\n",
        "\n",
        "            # Iterate over data.\n",
        "            for data in dataloaders[class_]:\n",
        "                  inputs, labels = data\n",
        "                  batch_size, c, h, w = inputs.shape\n",
        "                  # skip the last batch\n",
        "                  if batch_size < Params['batchsize']:\n",
        "                      continue\n",
        "                  \n",
        "                  inputs = Variable(inputs.cuda().detach())\n",
        "                  labels = Variable(labels.cuda().detach())\n",
        "\n",
        "                  # zero the parameter gradients\n",
        "                  optimizer.zero_grad()\n",
        "\n",
        "                  # forward\n",
        "                  if class_ == 'val':\n",
        "                      with torch.no_grad():\n",
        "                          outputs = model(inputs)\n",
        "                  else:\n",
        "                      outputs = model(inputs)\n",
        "\n",
        "                  loss = Loss(outputs, labels)\n",
        "                  _, pred_y = torch.max(outputs.data, 1)\n",
        "\n",
        "                  # backward + optimize only if in training\n",
        "                  if epoch < Params['warm_epoch'] and class_ == 'train':\n",
        "                      warm_up = min(1.0, warm_up + 0.9 / warm_iteration)\n",
        "                      loss *= warm_up\n",
        "\n",
        "                  if class_ == 'train':\n",
        "                      loss.backward()\n",
        "                      # use optimier to backward loss\n",
        "                      optimizer.step()\n",
        "\n",
        "                  # statistics\n",
        "                  running_loss += loss.item() * batch_size\n",
        "                  running_corrects += float(torch.sum(pred_y == labels.data))\n",
        "\n",
        "            if class_ == 'train':   \n",
        "                scheduler.step()\n",
        "            # Total loss and accuracy\n",
        "            epoch_loss = running_loss / dataset_sizes[class_]\n",
        "            epoch_acc = running_corrects / dataset_sizes[class_]\n",
        "\n",
        "            print('{} Loss: {:.4f} Acc: {:.4f}'.format(\n",
        "                class_, epoch_loss, epoch_acc))\n",
        "            \n",
        "            y_loss[class_].append(epoch_loss)\n",
        "            y_err[class_].append(1.0 - epoch_acc)            \n",
        "            # deep copy the model\n",
        "            if class_ == 'val':\n",
        "                # save the best model\n",
        "                if check_best_model():\n",
        "                    best_epoch = epoch + 1\n",
        "                    best_model_wts = model.state_dict()\n",
        "                if epoch%10 == 9:\n",
        "                    save_network(model, epoch)\n",
        "                draw_curve(epoch)\n",
        "\n",
        "        time_elapsed = time.time() - begin\n",
        "        print('Training complete in {:.0f}m {:.0f}s'.format(\n",
        "            time_elapsed // 60, time_elapsed % 60))\n",
        "        print()\n",
        "\n",
        "    time_elapsed = time.time() - begin\n",
        "    print('Training complete in {:.0f}m {:.0f}s'.format(\n",
        "        time_elapsed // 60, time_elapsed % 60))\n",
        "\n",
        "    # load best model weights\n",
        "    print(\"The best epoch is {}\".format(best_epoch))\n",
        "    for c in ['train', 'val']:\n",
        "        print('{} Loss: {:.4f} Acc: {:.4f}'.format(\n",
        "                    c, y_loss[c][best_epoch-1], 1 - y_err[c][best_epoch-1]))\n",
        "    model.load_state_dict(best_model_wts)\n",
        "    save_network(model, 'best')\n",
        "    return model"
      ],
      "execution_count": null,
      "outputs": []
    },
    {
      "cell_type": "markdown",
      "metadata": {
        "id": "BaEAD3ie9Wbh"
      },
      "source": [
        "### Train"
      ]
    },
    {
      "cell_type": "code",
      "metadata": {
        "id": "I8DWi6hAugg2",
        "colab": {
          "base_uri": "https://localhost:8080/",
          "height": 83,
          "referenced_widgets": [
            "8adfaab84b8d44129e1c69f43dc6d200",
            "90bae86b4a264e7aaf15794da92f10d5",
            "eb8afe68f66c4128b779d91e0de08e70",
            "19aab0a554304566ac6d83d49d80d476",
            "18291c7e0bfc4be8a39b5b9d3978fd60",
            "8392f445247c459abc7ae8f85e878fb2",
            "7094402e5b9240a2a487292a5e26b33c",
            "f107feed53364ac5beb1fc8d3753fb9b"
          ]
        },
        "outputId": "ff9af4dc-2be1-4dce-9da6-bfcf29bcbc9c"
      },
      "source": [
        "model = ft_net(Params['train_class_num'])\n",
        "\n",
        "ignored_params = list(map(id, model.classifier.parameters() ))\n",
        "base_params = filter(lambda p: id(p) not in ignored_params, model.parameters())\n",
        "\n",
        "# Use SGD Optimizer\n",
        "# optimizer object can save the current parameter state \n",
        "# and update the parameters based on the calculated gradient\n",
        "# parameters: params (iterable) used for optimization can iterate over parameters \n",
        "# or define parameter sets, lr learning rate, momentum momentum factor.\n",
        "# weight_decay weight decay, dampening momentum suppression factor (default: 0), \n",
        "# use Nesterov momentum (default: False)\n",
        "optimizer_ft = optim.SGD([\n",
        "    {'params': base_params, 'lr': 0.1*Params['lr']},\n",
        "    {'params': model.classifier.parameters(), 'lr': Params['lr']}\n",
        "], weight_decay=5e-4, momentum=0.9, nesterov=True)\n",
        "\n",
        "# Decay LR by a factor of 0.1 every 40 epochs\n",
        "exp_lr_scheduler = lr_scheduler.StepLR(optimizer_ft, step_size=40, gamma=0.1)"
      ],
      "execution_count": null,
      "outputs": [
        {
          "output_type": "stream",
          "text": [
            "Downloading: \"https://download.pytorch.org/models/resnet50-19c8e357.pth\" to /root/.cache/torch/hub/checkpoints/resnet50-19c8e357.pth\n"
          ],
          "name": "stderr"
        },
        {
          "output_type": "display_data",
          "data": {
            "application/vnd.jupyter.widget-view+json": {
              "model_id": "8adfaab84b8d44129e1c69f43dc6d200",
              "version_minor": 0,
              "version_major": 2
            },
            "text/plain": [
              "HBox(children=(FloatProgress(value=0.0, max=102502400.0), HTML(value='')))"
            ]
          },
          "metadata": {
            "tags": []
          }
        },
        {
          "output_type": "stream",
          "text": [
            "\n"
          ],
          "name": "stdout"
        }
      ]
    },
    {
      "cell_type": "code",
      "metadata": {
        "colab": {
          "base_uri": "https://localhost:8080/"
        },
        "id": "lXm2SZHh9afM",
        "outputId": "26cbc7c3-d48c-4bf9-86d4-b95ae70d88b7"
      },
      "source": [
        "# model to gpu\n",
        "model = model.cuda()\n",
        "model  = train(model, Loss, optimizer_ft, exp_lr_scheduler, Params)"
      ],
      "execution_count": null,
      "outputs": [
        {
          "output_type": "stream",
          "text": [
            "Epoch 1/60\n",
            "----------\n",
            "train Loss: 0.8375 Acc: 0.1979\n",
            "val Loss: 3.2261 Acc: 0.3542\n",
            "Training complete in 1m 15s\n",
            "\n",
            "Epoch 2/60\n",
            "----------\n",
            "train Loss: 0.5587 Acc: 0.6672\n",
            "val Loss: 1.2930 Acc: 0.6951\n",
            "Training complete in 2m 33s\n",
            "\n",
            "Epoch 3/60\n",
            "----------\n",
            "train Loss: 0.4003 Acc: 0.8247\n",
            "val Loss: 1.0219 Acc: 0.7457\n",
            "Training complete in 3m 52s\n",
            "\n",
            "Epoch 4/60\n",
            "----------\n",
            "train Loss: 0.4476 Acc: 0.8412\n",
            "val Loss: 1.1127 Acc: 0.7084\n",
            "Training complete in 5m 11s\n",
            "\n",
            "Epoch 5/60\n",
            "----------\n",
            "train Loss: 0.6749 Acc: 0.8033\n",
            "val Loss: 1.1902 Acc: 0.7084\n",
            "Training complete in 6m 30s\n",
            "\n",
            "Epoch 6/60\n",
            "----------\n",
            "train Loss: 0.6659 Acc: 0.8222\n",
            "val Loss: 0.7183 Acc: 0.8123\n",
            "Training complete in 7m 49s\n",
            "\n",
            "Epoch 7/60\n",
            "----------\n",
            "train Loss: 0.3503 Acc: 0.9021\n",
            "val Loss: 0.6248 Acc: 0.8229\n",
            "Training complete in 9m 8s\n",
            "\n",
            "Epoch 8/60\n",
            "----------\n",
            "train Loss: 0.1779 Acc: 0.9550\n",
            "val Loss: 0.4914 Acc: 0.8642\n",
            "Training complete in 10m 27s\n",
            "\n",
            "Epoch 9/60\n",
            "----------\n",
            "train Loss: 0.1214 Acc: 0.9736\n",
            "val Loss: 0.3935 Acc: 0.9055\n",
            "Training complete in 11m 46s\n",
            "\n",
            "Epoch 10/60\n",
            "----------\n",
            "train Loss: 0.0696 Acc: 0.9856\n",
            "val Loss: 0.3581 Acc: 0.9068\n",
            "Training complete in 13m 6s\n",
            "\n",
            "Epoch 11/60\n",
            "----------\n",
            "train Loss: 0.0553 Acc: 0.9903\n",
            "val Loss: 0.3368 Acc: 0.9121\n",
            "Training complete in 14m 25s\n",
            "\n",
            "Epoch 12/60\n",
            "----------\n",
            "train Loss: 0.0422 Acc: 0.9937\n",
            "val Loss: 0.2982 Acc: 0.9161\n",
            "Training complete in 15m 44s\n",
            "\n",
            "Epoch 13/60\n",
            "----------\n",
            "train Loss: 0.0372 Acc: 0.9956\n",
            "val Loss: 0.2973 Acc: 0.9228\n",
            "Training complete in 17m 3s\n",
            "\n",
            "Epoch 14/60\n",
            "----------\n",
            "train Loss: 0.0366 Acc: 0.9957\n",
            "val Loss: 0.2868 Acc: 0.9241\n",
            "Training complete in 18m 22s\n",
            "\n",
            "Epoch 15/60\n",
            "----------\n",
            "train Loss: 0.0287 Acc: 0.9975\n",
            "val Loss: 0.2880 Acc: 0.9308\n",
            "Training complete in 19m 41s\n",
            "\n",
            "Epoch 16/60\n",
            "----------\n",
            "train Loss: 0.0351 Acc: 0.9965\n",
            "val Loss: 0.2963 Acc: 0.9214\n",
            "Training complete in 20m 60s\n",
            "\n",
            "Epoch 17/60\n",
            "----------\n",
            "train Loss: 0.0317 Acc: 0.9973\n",
            "val Loss: 0.2918 Acc: 0.9228\n",
            "Training complete in 22m 19s\n",
            "\n",
            "Epoch 18/60\n",
            "----------\n",
            "train Loss: 0.0302 Acc: 0.9971\n",
            "val Loss: 0.2682 Acc: 0.9254\n",
            "Training complete in 23m 38s\n",
            "\n",
            "Epoch 19/60\n",
            "----------\n",
            "train Loss: 0.0327 Acc: 0.9973\n",
            "val Loss: 0.2525 Acc: 0.9268\n",
            "Training complete in 24m 57s\n",
            "\n",
            "Epoch 20/60\n",
            "----------\n",
            "train Loss: 0.0365 Acc: 0.9967\n",
            "val Loss: 0.2847 Acc: 0.9254\n",
            "Training complete in 26m 17s\n",
            "\n",
            "Epoch 21/60\n",
            "----------\n",
            "train Loss: 0.0282 Acc: 0.9976\n",
            "val Loss: 0.2754 Acc: 0.9254\n",
            "Training complete in 27m 36s\n",
            "\n",
            "Epoch 22/60\n",
            "----------\n",
            "train Loss: 0.0276 Acc: 0.9975\n",
            "val Loss: 0.2937 Acc: 0.9281\n",
            "Training complete in 28m 55s\n",
            "\n",
            "Epoch 23/60\n",
            "----------\n",
            "train Loss: 0.0282 Acc: 0.9976\n",
            "val Loss: 0.2866 Acc: 0.9228\n",
            "Training complete in 30m 14s\n",
            "\n",
            "Epoch 24/60\n",
            "----------\n",
            "train Loss: 0.0279 Acc: 0.9976\n",
            "val Loss: 0.2749 Acc: 0.9294\n",
            "Training complete in 31m 33s\n",
            "\n",
            "Epoch 25/60\n",
            "----------\n",
            "train Loss: 0.0274 Acc: 0.9976\n",
            "val Loss: 0.2830 Acc: 0.9268\n",
            "Training complete in 32m 52s\n",
            "\n",
            "Epoch 26/60\n",
            "----------\n",
            "train Loss: 0.0264 Acc: 0.9979\n",
            "val Loss: 0.2864 Acc: 0.9214\n",
            "Training complete in 34m 11s\n",
            "\n",
            "Epoch 27/60\n",
            "----------\n",
            "train Loss: 0.0260 Acc: 0.9979\n",
            "val Loss: 0.2707 Acc: 0.9254\n",
            "Training complete in 35m 31s\n",
            "\n",
            "Epoch 28/60\n",
            "----------\n",
            "train Loss: 0.0259 Acc: 0.9977\n",
            "val Loss: 0.2983 Acc: 0.9294\n",
            "Training complete in 36m 50s\n",
            "\n",
            "Epoch 29/60\n",
            "----------\n",
            "train Loss: 0.0248 Acc: 0.9979\n",
            "val Loss: 0.2907 Acc: 0.9254\n",
            "Training complete in 38m 9s\n",
            "\n",
            "Epoch 30/60\n",
            "----------\n",
            "train Loss: 0.0272 Acc: 0.9975\n",
            "val Loss: 0.2824 Acc: 0.9201\n",
            "Training complete in 39m 29s\n",
            "\n",
            "Epoch 31/60\n",
            "----------\n",
            "train Loss: 0.0251 Acc: 0.9979\n",
            "val Loss: 0.2921 Acc: 0.9268\n",
            "Training complete in 40m 48s\n",
            "\n",
            "Epoch 32/60\n",
            "----------\n",
            "train Loss: 0.0286 Acc: 0.9974\n",
            "val Loss: 0.2717 Acc: 0.9241\n",
            "Training complete in 42m 7s\n",
            "\n",
            "Epoch 33/60\n",
            "----------\n",
            "train Loss: 0.0247 Acc: 0.9979\n",
            "val Loss: 0.2724 Acc: 0.9308\n",
            "Training complete in 43m 26s\n",
            "\n",
            "Epoch 34/60\n",
            "----------\n",
            "train Loss: 0.0237 Acc: 0.9979\n",
            "val Loss: 0.2984 Acc: 0.9241\n",
            "Training complete in 44m 45s\n",
            "\n",
            "Epoch 35/60\n",
            "----------\n",
            "train Loss: 0.0244 Acc: 0.9979\n",
            "val Loss: 0.2768 Acc: 0.9228\n",
            "Training complete in 46m 5s\n",
            "\n",
            "Epoch 36/60\n",
            "----------\n",
            "train Loss: 0.0238 Acc: 0.9979\n",
            "val Loss: 0.3020 Acc: 0.9121\n",
            "Training complete in 47m 24s\n",
            "\n",
            "Epoch 37/60\n",
            "----------\n",
            "train Loss: 0.0240 Acc: 0.9979\n",
            "val Loss: 0.2928 Acc: 0.9214\n",
            "Training complete in 48m 43s\n",
            "\n",
            "Epoch 38/60\n",
            "----------\n",
            "train Loss: 0.0231 Acc: 0.9979\n",
            "val Loss: 0.2951 Acc: 0.9214\n",
            "Training complete in 50m 2s\n",
            "\n",
            "Epoch 39/60\n",
            "----------\n",
            "train Loss: 0.0227 Acc: 0.9979\n",
            "val Loss: 0.2836 Acc: 0.9241\n",
            "Training complete in 51m 21s\n",
            "\n",
            "Epoch 40/60\n",
            "----------\n",
            "train Loss: 0.0239 Acc: 0.9979\n",
            "val Loss: 0.3008 Acc: 0.9228\n",
            "Training complete in 52m 41s\n",
            "\n",
            "Epoch 41/60\n",
            "----------\n",
            "train Loss: 0.0198 Acc: 0.9979\n",
            "val Loss: 0.2908 Acc: 0.9201\n",
            "Training complete in 53m 60s\n",
            "\n",
            "Epoch 42/60\n",
            "----------\n",
            "train Loss: 0.0180 Acc: 0.9979\n",
            "val Loss: 0.2863 Acc: 0.9241\n",
            "Training complete in 55m 19s\n",
            "\n",
            "Epoch 43/60\n",
            "----------\n",
            "train Loss: 0.0176 Acc: 0.9979\n",
            "val Loss: 0.2871 Acc: 0.9188\n",
            "Training complete in 56m 38s\n",
            "\n",
            "Epoch 44/60\n",
            "----------\n",
            "train Loss: 0.0177 Acc: 0.9979\n",
            "val Loss: 0.2793 Acc: 0.9188\n",
            "Training complete in 57m 57s\n",
            "\n",
            "Epoch 45/60\n",
            "----------\n",
            "train Loss: 0.0178 Acc: 0.9979\n",
            "val Loss: 0.2841 Acc: 0.9201\n",
            "Training complete in 59m 16s\n",
            "\n",
            "Epoch 46/60\n",
            "----------\n",
            "train Loss: 0.0178 Acc: 0.9979\n",
            "val Loss: 0.2815 Acc: 0.9228\n",
            "Training complete in 60m 36s\n",
            "\n",
            "Epoch 47/60\n",
            "----------\n",
            "train Loss: 0.0185 Acc: 0.9979\n",
            "val Loss: 0.2879 Acc: 0.9188\n",
            "Training complete in 61m 54s\n",
            "\n",
            "Epoch 48/60\n",
            "----------\n",
            "train Loss: 0.0184 Acc: 0.9979\n",
            "val Loss: 0.2833 Acc: 0.9214\n",
            "Training complete in 63m 14s\n",
            "\n",
            "Epoch 49/60\n",
            "----------\n",
            "train Loss: 0.0183 Acc: 0.9979\n",
            "val Loss: 0.2908 Acc: 0.9214\n",
            "Training complete in 64m 33s\n",
            "\n",
            "Epoch 50/60\n",
            "----------\n",
            "train Loss: 0.0189 Acc: 0.9979\n",
            "val Loss: 0.2927 Acc: 0.9201\n",
            "Training complete in 65m 52s\n",
            "\n",
            "Epoch 51/60\n",
            "----------\n",
            "train Loss: 0.0191 Acc: 0.9979\n",
            "val Loss: 0.2895 Acc: 0.9174\n",
            "Training complete in 67m 11s\n",
            "\n",
            "Epoch 52/60\n",
            "----------\n",
            "train Loss: 0.0192 Acc: 0.9979\n",
            "val Loss: 0.2870 Acc: 0.9174\n",
            "Training complete in 68m 30s\n",
            "\n",
            "Epoch 53/60\n",
            "----------\n",
            "train Loss: 0.0195 Acc: 0.9979\n",
            "val Loss: 0.2928 Acc: 0.9201\n",
            "Training complete in 69m 50s\n",
            "\n",
            "Epoch 54/60\n",
            "----------\n",
            "train Loss: 0.0196 Acc: 0.9979\n",
            "val Loss: 0.2923 Acc: 0.9201\n",
            "Training complete in 71m 9s\n",
            "\n",
            "Epoch 55/60\n",
            "----------\n",
            "train Loss: 0.0199 Acc: 0.9979\n",
            "val Loss: 0.2785 Acc: 0.9214\n",
            "Training complete in 72m 28s\n",
            "\n",
            "Epoch 56/60\n",
            "----------\n",
            "train Loss: 0.0202 Acc: 0.9979\n",
            "val Loss: 0.2928 Acc: 0.9214\n",
            "Training complete in 73m 47s\n",
            "\n",
            "Epoch 57/60\n",
            "----------\n",
            "train Loss: 0.0199 Acc: 0.9979\n",
            "val Loss: 0.2836 Acc: 0.9188\n",
            "Training complete in 75m 6s\n",
            "\n",
            "Epoch 58/60\n",
            "----------\n",
            "train Loss: 0.0198 Acc: 0.9979\n",
            "val Loss: 0.2906 Acc: 0.9188\n",
            "Training complete in 76m 25s\n",
            "\n",
            "Epoch 59/60\n",
            "----------\n",
            "train Loss: 0.0205 Acc: 0.9979\n",
            "val Loss: 0.2883 Acc: 0.9228\n",
            "Training complete in 77m 45s\n",
            "\n",
            "Epoch 60/60\n",
            "----------\n",
            "train Loss: 0.0203 Acc: 0.9979\n",
            "val Loss: 0.2939 Acc: 0.9228\n",
            "Training complete in 79m 4s\n",
            "\n",
            "Training complete in 79m 4s\n",
            "The best epoch is 14\n",
            "train Loss: 0.0366 Acc: 0.9957\n",
            "val Loss: 0.2868 Acc: 0.9241\n"
          ],
          "name": "stdout"
        }
      ]
    },
    {
      "cell_type": "code",
      "metadata": {
        "colab": {
          "base_uri": "https://localhost:8080/",
          "height": 288
        },
        "id": "NcKeJvEx_7jM",
        "outputId": "32bcd977-90df-4d34-86bb-ce7b222737dc"
      },
      "source": [
        "im = im=Image.open('/content/model/ft_ResNet50/train.png')\n",
        "plt.imshow(im)"
      ],
      "execution_count": null,
      "outputs": [
        {
          "output_type": "execute_result",
          "data": {
            "text/plain": [
              "<matplotlib.image.AxesImage at 0x7fa7b6fa8a10>"
            ]
          },
          "metadata": {
            "tags": []
          },
          "execution_count": 33
        },
        {
          "output_type": "display_data",
          "data": {
            "image/png": "[encoded data removed]",
            "text/plain": [
              "<Figure size 432x288 with 1 Axes>"
            ]
          },
          "metadata": {
            "tags": [],
            "needs_background": "light"
          }
        }
      ]
    },
    {
      "cell_type": "markdown",
      "metadata": {
        "id": "36x424_YNdUi"
      },
      "source": [
        "## Save Model"
      ]
    },
    {
      "cell_type": "code",
      "metadata": {
        "id": "VLZoMHeqNgju",
        "colab": {
          "base_uri": "https://localhost:8080/"
        },
        "outputId": "9985157e-c308-4815-c024-62f2d6016601"
      },
      "source": [
        "from google.colab import drive\n",
        "drive.mount('/content/drive/')"
      ],
      "execution_count": null,
      "outputs": [
        {
          "output_type": "stream",
          "text": [
            "Mounted at /content/drive/\n"
          ],
          "name": "stdout"
        }
      ]
    },
    {
      "cell_type": "code",
      "metadata": {
        "id": "OIHPnJOrQph8"
      },
      "source": [
        "!cp /content/model/ft_ResNet50/net_best.pth /content/drive/MyDrive/DL/Model/"
      ],
      "execution_count": null,
      "outputs": []
    },
    {
      "cell_type": "markdown",
      "metadata": {
        "id": "nfVVom0hRMcR"
      },
      "source": [
        "# Extract feature"
      ]
    },
    {
      "cell_type": "markdown",
      "metadata": {
        "id": "mlso2k8s-32w"
      },
      "source": [
        "import the model structure and then load the weight to the model.  \n",
        "For every query and gallery image, extract the feature by simply forward the data."
      ]
    },
    {
      "cell_type": "code",
      "metadata": {
        "id": "ITxutpECTdJG"
      },
      "source": [
        "data_transforms['eval'] = transforms.Compose([\n",
        "        transforms.Resize((256,128), interpolation=transforms.functional.InterpolationMode.BICUBIC),\n",
        "        transforms.ToTensor(),\n",
        "        transforms.Normalize([0.485, 0.456, 0.406], [0.229, 0.224, 0.225])\n",
        "])"
      ],
      "execution_count": null,
      "outputs": []
    },
    {
      "cell_type": "code",
      "metadata": {
        "id": "hc5FLiiwTlAq"
      },
      "source": [
        "image_datasets_eval = {\n",
        "    x: datasets.ImageFolder( os.path.join(data_dir,x) ,\n",
        "                            data_transforms['eval']) \n",
        "    for x in ['gallery','query','multi-query']\n",
        "    }\n",
        "image_datasets = {**image_datasets, **image_datasets_eval}\n",
        "\n",
        "dataloaders_eval= {\n",
        "    x: torch.utils.data.DataLoader(\n",
        "        image_datasets[x], \n",
        "        batch_size=Params['batchsize'],\n",
        "        shuffle=False, num_workers=4) \n",
        "    for x in ['gallery','query','multi-query']\n",
        "    }\n",
        "dataloaders = {**dataloaders, **dataloaders_eval}"
      ],
      "execution_count": null,
      "outputs": []
    },
    {
      "cell_type": "code",
      "metadata": {
        "id": "4zU-YkF7UFOF"
      },
      "source": [
        "class_names = image_datasets['query'].classes"
      ],
      "execution_count": null,
      "outputs": []
    },
    {
      "cell_type": "code",
      "metadata": {
        "id": "iY85veZ-daoK"
      },
      "source": [
        "def fliplr(img):\n",
        "    '''flip horizontal'''\n",
        "    inv_idx = torch.arange(img.size(3)-1,-1,-1).long()  # N x C x H x W\n",
        "    img_flip = img.index_select(3,inv_idx)\n",
        "    return img_flip\n",
        "\n",
        "def extract_feature(model,dataloaders):\n",
        "    features = torch.FloatTensor()\n",
        "    for data in dataloaders:\n",
        "        img, label = data\n",
        "        n, c, h, w = img.size()\n",
        "        ff = torch.FloatTensor(n,512).zero_().cuda()\n",
        "\n",
        "        for i in range(2):\n",
        "            if(i==1):\n",
        "                img = fliplr(img)\n",
        "            input_img = Variable(img.cuda())\n",
        "            outputs = model(input_img) \n",
        "            ff += outputs\n",
        "        # norm feature\n",
        "        # p=2 -> l2-norm\n",
        "        fnorm = torch.norm(ff, p=2, dim=1, keepdim=True)\n",
        "        ff = ff.div(fnorm.expand_as(ff))\n",
        "\n",
        "        features = torch.cat((features,ff.data.cpu()), 0)\n",
        "    return features\n",
        "\n",
        "def get_id(img_path):\n",
        "    camera_id = []\n",
        "    labels = []\n",
        "    for path, v in img_path:\n",
        "        #filename = path.split('/')[-1]\n",
        "        filename = os.path.basename(path)\n",
        "        label = filename[0:4]\n",
        "        camera = filename.split('c')[1]\n",
        "        if label[0:2]=='-1':\n",
        "            labels.append(-1)\n",
        "        else:\n",
        "            labels.append(int(label))\n",
        "        camera_id.append(int(camera[0]))\n",
        "    return camera_id, labels"
      ],
      "execution_count": null,
      "outputs": []
    },
    {
      "cell_type": "code",
      "metadata": {
        "id": "ljgOkGJPUsT6"
      },
      "source": [
        "gallery_path = image_datasets['gallery'].imgs\n",
        "query_path = image_datasets['query'].imgs\n",
        "\n",
        "gallery_cam,gallery_label = get_id(gallery_path)\n",
        "query_cam,query_label = get_id(query_path)\n",
        "\n",
        "mquery_path = image_datasets['multi-query'].imgs\n",
        "mquery_cam,mquery_label = get_id(mquery_path)"
      ],
      "execution_count": null,
      "outputs": []
    },
    {
      "cell_type": "markdown",
      "metadata": {
        "id": "qVY4MGt-UmVf"
      },
      "source": [
        "## Load Model"
      ]
    },
    {
      "cell_type": "markdown",
      "metadata": {
        "id": "h2i_19COj6KW"
      },
      "source": [
        "Download the best model we saved before."
      ]
    },
    {
      "cell_type": "code",
      "metadata": {
        "colab": {
          "base_uri": "https://localhost:8080/"
        },
        "id": "3aysCvG6i9iC",
        "outputId": "7f55380d-2d16-4c74-e748-083c00dad3d1"
      },
      "source": [
        "!gdown https://drive.google.com/uc?id=1akjH8rtvW_gjloTvVIBPBI93kZVa5bDQ"
      ],
      "execution_count": null,
      "outputs": [
        {
          "output_type": "stream",
          "text": [
            "Downloading...\n",
            "From: https://drive.google.com/uc?id=1akjH8rtvW_gjloTvVIBPBI93kZVa5bDQ\n",
            "To: /content/net_best.pth\n",
            "108MB [00:00, 176MB/s] \n"
          ],
          "name": "stdout"
        }
      ]
    },
    {
      "cell_type": "code",
      "metadata": {
        "id": "A__dPWgPVLh8"
      },
      "source": [
        "test_model = ft_net(751, stride=2)\n",
        "test_model.load_state_dict(torch.load('/content/net_best.pth'))  \n",
        "test_model.classifier.classifier = nn.Sequential()\n",
        "test_model = test_model.eval()\n",
        "test_model = test_model.cuda()"
      ],
      "execution_count": null,
      "outputs": []
    },
    {
      "cell_type": "code",
      "metadata": {
        "id": "cO-9Z7niVoVq"
      },
      "source": [
        "with torch.no_grad():\n",
        "    gallery_feature = extract_feature(test_model,dataloaders['gallery'])\n",
        "    query_feature = extract_feature(test_model,dataloaders['query'])\n",
        "    mquery_feature = extract_feature(test_model,dataloaders['multi-query'])"
      ],
      "execution_count": null,
      "outputs": []
    },
    {
      "cell_type": "code",
      "metadata": {
        "id": "rWfv5aqEW6Me"
      },
      "source": [
        "result = {\n",
        "    'gallery_f':gallery_feature.numpy(),\n",
        "    'gallery_label':np.array(gallery_label),\n",
        "    'gallery_cam':np.array(gallery_cam),\n",
        "    'query_f':query_feature.numpy(),\n",
        "    'query_label':np.array(query_label),\n",
        "    'query_cam':np.array(query_cam),\n",
        "    'mquery_f':mquery_feature.numpy(),\n",
        "    'mquery_label':np.array(mquery_label),\n",
        "    'mquery_cam':np.array(mquery_cam)\n",
        "    }"
      ],
      "execution_count": null,
      "outputs": []
    },
    {
      "cell_type": "markdown",
      "metadata": {
        "id": "N3j2UzHtRO-t"
      },
      "source": [
        "# Evaluation"
      ]
    },
    {
      "cell_type": "code",
      "metadata": {
        "id": "-_cIdOX6XgMs"
      },
      "source": [
        "def evaluate(qf,ql,qc,gf,gl,gc):\n",
        "    # calculating cosine distance with normalized vectors\n",
        "    query = qf.view(-1,1)\n",
        "    score = torch.mm(gf,query)\n",
        "    score = score.squeeze(1).cpu()\n",
        "    score = score.numpy()\n",
        "    # predict index\n",
        "    index = np.argsort(score)  #from small to large\n",
        "    index = index[::-1]\n",
        "    # good index\n",
        "    query_index = np.argwhere(gl==ql)\n",
        "    camera_index = np.argwhere(gc==qc)\n",
        "\n",
        "    good_index = np.setdiff1d(query_index, camera_index, assume_unique=True)\n",
        "    junk_index1 = np.argwhere(gl==-1)\n",
        "    junk_index2 = np.intersect1d(query_index, camera_index)\n",
        "    junk_index = np.append(junk_index2, junk_index1) #.flatten())\n",
        "    \n",
        "    CMC_tmp = compute_mAP(index, good_index, junk_index)\n",
        "    return CMC_tmp\n",
        "\n",
        "\n",
        "def compute_mAP(index, good_index, junk_index):\n",
        "    ap = 0\n",
        "    cmc = torch.IntTensor(len(index)).zero_()\n",
        "    if good_index.size==0:   # if empty\n",
        "        cmc[0] = -1\n",
        "        return ap,cmc\n",
        "\n",
        "    # remove junk_index\n",
        "    mask = np.in1d(index, junk_index, invert=True)\n",
        "    index = index[mask]\n",
        "\n",
        "    # find good_index index\n",
        "    ngood = len(good_index)\n",
        "    mask = np.in1d(index, good_index)\n",
        "    rows_good = np.argwhere(mask==True)\n",
        "    rows_good = rows_good.flatten()\n",
        "    \n",
        "    cmc[rows_good[0]:] = 1\n",
        "    for i in range(ngood):\n",
        "        d_recall = 1.0/ngood\n",
        "        precision = (i+1)*1.0/(rows_good[i]+1)\n",
        "        if rows_good[i]!=0:\n",
        "            old_precision = i*1.0/rows_good[i]\n",
        "        else:\n",
        "            old_precision=1.0\n",
        "        ap = ap + d_recall*(old_precision + precision)/2\n",
        "\n",
        "    return ap, cmc"
      ],
      "execution_count": null,
      "outputs": []
    },
    {
      "cell_type": "code",
      "metadata": {
        "id": "E55KHvMdwYO1"
      },
      "source": [
        "gallery_label = np.array(gallery_label)\n",
        "gallery_cam = np.array(gallery_cam)\n",
        "query_label = np.array(query_label)\n",
        "query_cam = np.array(query_cam)\n",
        "mquery_label = np.array(mquery_label)\n",
        "mquery_cam = np.array(mquery_cam)"
      ],
      "execution_count": null,
      "outputs": []
    },
    {
      "cell_type": "code",
      "metadata": {
        "id": "JWpEnopGYYow"
      },
      "source": [
        "query_feature = query_feature.cuda()\n",
        "gallery_feature = gallery_feature.cuda()\n",
        "mquery_feature = mquery_feature.cuda()"
      ],
      "execution_count": null,
      "outputs": []
    },
    {
      "cell_type": "markdown",
      "metadata": {
        "id": "veH7LK9D3P_b"
      },
      "source": [
        "## Single-query"
      ]
    },
    {
      "cell_type": "code",
      "metadata": {
        "id": "3ewUs7LdYcYI"
      },
      "source": [
        "CMC = torch.IntTensor(len(gallery_label)).zero_()\n",
        "ap = 0.0"
      ],
      "execution_count": null,
      "outputs": []
    },
    {
      "cell_type": "code",
      "metadata": {
        "id": "LpNwcaUdYesO"
      },
      "source": [
        "for i in range(len(query_label)):\n",
        "    ap_tmp, CMC_tmp = evaluate(query_feature[i],query_label[i],query_cam[i],gallery_feature,gallery_label,gallery_cam)\n",
        "    if CMC_tmp[0]==-1:\n",
        "        continue\n",
        "    CMC = CMC + CMC_tmp\n",
        "    ap += ap_tmp"
      ],
      "execution_count": null,
      "outputs": []
    },
    {
      "cell_type": "code",
      "metadata": {
        "id": "MXSqDn9-w9B2",
        "colab": {
          "base_uri": "https://localhost:8080/"
        },
        "outputId": "7d87f4be-2036-42c4-ac16-7eeb169d5c9d"
      },
      "source": [
        "CMC = CMC.float()\n",
        "CMC = CMC/len(query_label) #average CMC\n",
        "print('Rank@1:%f Rank@5:%f Rank@10:%f mAP:%f'%(CMC[0],CMC[4],CMC[9],ap/len(query_label)))\n",
        "print(CMC[:10])"
      ],
      "execution_count": null,
      "outputs": [
        {
          "output_type": "stream",
          "text": [
            "Rank@1:0.886580 Rank@5:0.951010 Rank@10:0.967933 mAP:0.711723\n",
            "tensor([0.8866, 0.9210, 0.9335, 0.9436, 0.9510, 0.9558, 0.9602, 0.9620, 0.9650,\n",
            "        0.9679])\n"
          ],
          "name": "stdout"
        }
      ]
    },
    {
      "cell_type": "code",
      "metadata": {
        "id": "5MBka-qZfVwx"
      },
      "source": [
        "x = [i+1 for i in range(len(CMC))]"
      ],
      "execution_count": null,
      "outputs": []
    },
    {
      "cell_type": "code",
      "metadata": {
        "colab": {
          "base_uri": "https://localhost:8080/",
          "height": 312
        },
        "id": "rhQ24EW6fra1",
        "outputId": "7d7aac08-c40b-4ee7-e56c-b7af8e9c9f1d"
      },
      "source": [
        "plt.figure()\n",
        "plt.plot(x[0:100],CMC[0:100],color=\"red\",linewidth=2)\n",
        "plt.xlabel(\"Rank\")  \n",
        "plt.ylabel(\"Matching Rate\") \n",
        "plt.title(\"Single-Query CMC Curve\")"
      ],
      "execution_count": null,
      "outputs": [
        {
          "output_type": "execute_result",
          "data": {
            "text/plain": [
              "Text(0.5, 1.0, 'Single-Query CMC Curve')"
            ]
          },
          "metadata": {
            "tags": []
          },
          "execution_count": 73
        },
        {
          "output_type": "display_data",
          "data": {
            "image/png": "[encoded data removed]",
            "text/plain": [
              "<Figure size 432x288 with 1 Axes>"
            ]
          },
          "metadata": {
            "tags": [],
            "needs_background": "light"
          }
        }
      ]
    },
    {
      "cell_type": "markdown",
      "metadata": {
        "id": "vKqxvNqx111f"
      },
      "source": [
        "## Multiple-query\n"
      ]
    },
    {
      "cell_type": "markdown",
      "metadata": {
        "id": "0X5CEM-G2VbH"
      },
      "source": [
        "Use multiple images of the same person as input for higher accuracy and robustness.  \n",
        "In practice, a common practice is to average the features proposed by each image."
      ]
    },
    {
      "cell_type": "code",
      "metadata": {
        "id": "HMzaeA931gxO",
        "colab": {
          "base_uri": "https://localhost:8080/"
        },
        "outputId": "514b7b67-78a3-4328-fbc7-90e03da7d862"
      },
      "source": [
        "CMC_multi = torch.IntTensor(len(gallery_label)).zero_()\n",
        "ap = 0.0\n",
        "for i in range(len(query_label)):\n",
        "    mquery_index1 = np.argwhere(mquery_label==query_label[i])\n",
        "    mquery_index2 = np.argwhere(mquery_cam==query_cam[i])\n",
        "    mquery_index =  np.intersect1d(mquery_index1, mquery_index2)\n",
        "    mq = torch.mean(mquery_feature[mquery_index,:], dim=0)\n",
        "    ap_tmp, CMC_tmp = evaluate(mq,query_label[i],query_cam[i],gallery_feature,gallery_label,gallery_cam)\n",
        "    if CMC_tmp[0]==-1:\n",
        "        continue\n",
        "    CMC_multi = CMC_multi + CMC_tmp\n",
        "    ap += ap_tmp\n",
        "CMC_multi = CMC_multi.float()\n",
        "CMC_multi = CMC_multi/len(query_label) #average CMC\n",
        "print('multi Rank@1:%f Rank@5:%f Rank@10:%f mAP:%f'%(CMC_multi[0],CMC_multi[4],CMC_multi[9],ap/len(query_label)))\n",
        "print(CMC_multi[:10])"
      ],
      "execution_count": null,
      "outputs": [
        {
          "output_type": "stream",
          "text": [
            "multi Rank@1:0.927257 Rank@5:0.951010 Rank@10:0.967933 mAP:0.797816\n",
            "tensor([0.9273, 0.9522, 0.9629, 0.9700, 0.9736, 0.9762, 0.9789, 0.9804, 0.9807,\n",
            "        0.9828])\n"
          ],
          "name": "stdout"
        }
      ]
    },
    {
      "cell_type": "code",
      "metadata": {
        "colab": {
          "base_uri": "https://localhost:8080/",
          "height": 312
        },
        "id": "hwf5ltz6cgkC",
        "outputId": "56c7418f-929a-4bcb-ac80-e86b874f882a"
      },
      "source": [
        "plt.plot(x[0:100],CMC_multi[0:100],color=\"red\",linewidth=2)\n",
        "plt.xlabel(\"Rank\")  \n",
        "plt.ylabel(\"Matching Rate\") \n",
        "plt.title(\"Multiple-Query CMC Curve\")"
      ],
      "execution_count": null,
      "outputs": [
        {
          "output_type": "execute_result",
          "data": {
            "text/plain": [
              "Text(0.5, 1.0, 'Multiple-Query CMC Curve')"
            ]
          },
          "metadata": {
            "tags": []
          },
          "execution_count": 75
        },
        {
          "output_type": "display_data",
          "data": {
            "image/png": "[encoded data removed]",
            "text/plain": [
              "<Figure size 432x288 with 1 Axes>"
            ]
          },
          "metadata": {
            "tags": [],
            "needs_background": "light"
          }
        }
      ]
    },
    {
      "cell_type": "code",
      "metadata": {
        "colab": {
          "base_uri": "https://localhost:8080/",
          "height": 298
        },
        "id": "gR08GG44ba-Y",
        "outputId": "c7a26c29-0cc7-48ba-a8de-16b2f51322d4"
      },
      "source": [
        "Fig = plt.figure()\n",
        "ax0 = Fig.add_subplot(111, title=\"CMC Curve\")\n",
        "\n",
        "x = np.arange(1,CMC.shape[0]+1)  \n",
        "ax0.plot(x[0:100], CMC[0:100], 'b', label='Single-Query')\n",
        "ax0.plot(x[0:100], CMC_multi[0:100], 'r', label='Multiple-Query')\n",
        "ax0.legend()"
      ],
      "execution_count": null,
      "outputs": [
        {
          "output_type": "execute_result",
          "data": {
            "text/plain": [
              "<matplotlib.legend.Legend at 0x7f7341984f10>"
            ]
          },
          "metadata": {
            "tags": []
          },
          "execution_count": 76
        },
        {
          "output_type": "display_data",
          "data": {
            "image/png": "[encoded data removed]",
            "text/plain": [
              "<Figure size 432x288 with 1 Axes>"
            ]
          },
          "metadata": {
            "tags": [],
            "needs_background": "light"
          }
        }
      ]
    },
    {
      "cell_type": "markdown",
      "metadata": {
        "id": "LkWn6BZfk7J_"
      },
      "source": [
        "# Demo"
      ]
    },
    {
      "cell_type": "code",
      "metadata": {
        "id": "2XBE05Dooqgj"
      },
      "source": [
        "#Show result\n",
        "def imshow(path, title=None):\n",
        "    \"\"\"Imshow for Tensor.\"\"\"\n",
        "    im = plt.imread(path)\n",
        "    plt.imshow(im)\n",
        "    if title is not None:\n",
        "        plt.title(title)\n",
        "    #plt.pause(0.001)  # pause a bit so that plots are updated"
      ],
      "execution_count": null,
      "outputs": []
    },
    {
      "cell_type": "code",
      "metadata": {
        "id": "RYwqIJlSY_P3"
      },
      "source": [
        "# sort the images\n",
        "def sort_img(qf, ql, qc, gf, gl, gc):\n",
        "    query = qf.view(-1,1)\n",
        "    # print(query.shape)\n",
        "    score = torch.mm(gf,query)\n",
        "    score = score.squeeze(1).cpu()\n",
        "    score = score.numpy()\n",
        "    # predict index\n",
        "    index = np.argsort(score)  #from small to large\n",
        "    index = index[::-1]\n",
        "    # index = index[0:2000]\n",
        "    # good index\n",
        "    query_index = np.argwhere(gl==ql)\n",
        "    #same camera\n",
        "    camera_index = np.argwhere(gc==qc)\n",
        "\n",
        "    #good_index = np.setdiff1d(query_index, camera_index, assume_unique=True)\n",
        "    junk_index1 = np.argwhere(gl==-1)\n",
        "    junk_index2 = np.intersect1d(query_index, camera_index)\n",
        "    junk_index = np.append(junk_index2, junk_index1) \n",
        "\n",
        "    mask = np.in1d(index, junk_index, invert=True)\n",
        "    index = index[mask]\n",
        "    return index"
      ],
      "execution_count": null,
      "outputs": []
    },
    {
      "cell_type": "code",
      "metadata": {
        "id": "3NoKqb4CpOKU"
      },
      "source": [
        "i = 333\n",
        "index_demo = sort_img(query_feature[i],query_label[i],query_cam[i],gallery_feature,gallery_label,gallery_cam)"
      ],
      "execution_count": null,
      "outputs": []
    },
    {
      "cell_type": "code",
      "metadata": {
        "colab": {
          "base_uri": "https://localhost:8080/",
          "height": 388
        },
        "id": "bs-AiduSos5h",
        "outputId": "380039b6-d76d-4398-9f6a-5f9515f0bfc4"
      },
      "source": [
        "query_demo_path, _ = image_datasets['query'].imgs[i]\n",
        "query_demo_label = query_label[i]\n",
        "print(query_demo_path)\n",
        "print('Top 10 images are as follow:')\n",
        "try: # Visualize Ranking Result \n",
        "    # Graphical User Interface is needed\n",
        "    fig = plt.figure(figsize=(16,4))\n",
        "    ax = plt.subplot(1,11,1)\n",
        "    ax.axis('off')\n",
        "    imshow(query_demo_path,'query')\n",
        "    for i in range(10):\n",
        "        ax = plt.subplot(1,11,i+2)\n",
        "        ax.axis('off')\n",
        "        img_path, _ = image_datasets['gallery'].imgs[index_demo[i]]\n",
        "        label = gallery_label[index_demo[i]]\n",
        "        imshow(img_path)\n",
        "        if label == query_demo_label:\n",
        "            ax.set_title('%d'%(i+1), color='green')\n",
        "        else:\n",
        "            ax.set_title('%d'%(i+1), color='red')\n",
        "        print(img_path)\n",
        "except RuntimeError:\n",
        "    for i in range(10):\n",
        "        img_path = image_datasets.imgs[index_demo[i]]\n",
        "        print(img_path[0])\n",
        "    print('If you want to see the visualization of the ranking result, graphical user interface is needed.')\n",
        "\n",
        "fig.savefig(\"show.png\")"
      ],
      "execution_count": null,
      "outputs": [
        {
          "output_type": "stream",
          "text": [
            "/content/Market/pytorch/query/0153/0153_c1s1_025901_00.jpg\n",
            "Top 10 images are as follow:\n",
            "/content/Market/pytorch/gallery/0092/0092_c1s1_014776_01.jpg\n",
            "/content/Market/pytorch/gallery/0092/0092_c5s1_014501_02.jpg\n",
            "/content/Market/pytorch/gallery/0092/0092_c1s1_014601_02.jpg\n",
            "/content/Market/pytorch/gallery/0092/0092_c5s1_014501_07.jpg\n",
            "/content/Market/pytorch/gallery/0092/0092_c3s1_013776_01.jpg\n",
            "/content/Market/pytorch/gallery/0092/0092_c5s1_014376_01.jpg\n",
            "/content/Market/pytorch/gallery/0137/0137_c4s1_022076_01.jpg\n",
            "/content/Market/pytorch/gallery/0092/0092_c1s1_014776_04.jpg\n",
            "/content/Market/pytorch/gallery/0092/0092_c5s1_014376_03.jpg\n",
            "/content/Market/pytorch/gallery/0092/0092_c5s1_017051_02.jpg\n"
          ],
          "name": "stdout"
        },
        {
          "output_type": "display_data",
          "data": {
            "image/png": "[encoded data removed]",
            "text/plain": [
              "<Figure size 1152x288 with 11 Axes>"
            ]
          },
          "metadata": {
            "tags": [],
            "needs_background": "light"
          }
        }
      ]
    }
  ]
}